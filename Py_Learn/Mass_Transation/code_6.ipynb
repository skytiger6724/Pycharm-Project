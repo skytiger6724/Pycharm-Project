{
 "cells": [
  {
   "metadata": {
    "ExecuteTime": {
     "end_time": "2024-08-20T02:31:39.711888Z",
     "start_time": "2024-08-20T02:31:39.709695Z"
    }
   },
   "cell_type": "code",
   "source": [
    "import numpy as np\n",
    "import matplotlib\n",
    "import matplotlib.pyplot as plt\n",
    "#import matplotlib.mlab as mlab 已弃用\n",
    "import scipy.stats\n",
    "import random\n",
    "\n"
   ],
   "id": "9e96d24e766814e2",
   "outputs": [],
   "execution_count": 4
  },
  {
   "metadata": {
    "ExecuteTime": {
     "end_time": "2024-08-20T02:31:39.716869Z",
     "start_time": "2024-08-20T02:31:39.713910Z"
    }
   },
   "cell_type": "code",
   "source": [
    "np.random.seed(0)\n",
    "\n",
    "\n",
    "print(np.random.binomial(5, 0.5, 10))\n",
    "    #[3 3 3 3 2 3 2 4 4 2]\n",
    "    #同时抛掷5枚硬币，则5次同时为正面发生的概率——采样size=100000次 \n",
    "print(sum(np.random.binomial(5, 0.5, size=100000)==5)/100000.)\n",
    "    #0.03123\n",
    "    #同时抛掷5枚硬币，则4次同时为反面发生的概率——采样size=5000次 \n",
    "print(sum(np.random.binomial(5, 0.5, size=100000)==4)/100000.)\n",
    "    #同时抛掷5枚硬币，则3次同时为反面发生的概率——采样size=5000次 \n",
    "print(sum(np.random.binomial(5, 0.5, size=100000)==3)/100000.)\n",
    "    #同时抛掷5枚硬币，则2次同时为反面发生的概率——采样size=5000次 \n",
    "print(sum(np.random.binomial(5, 0.5, size=100000)==2)/100000.)\n",
    "    #同时抛掷5枚硬币，则1次同时为反面发生的概率——采样size=5000次 \n",
    "print(sum(np.random.binomial(5, 0.5, size=100000)==1)/100000.)\n",
    "    #同时抛掷5枚硬币，则0次同时为反面发生的概率——采样size=5000次 \n",
    "print(sum(np.random.binomial(5, 0.5, size=100000)==0)/100000.)\n",
    "\n",
    "    \n"
   ],
   "id": "9d42ca7b656e2c3b",
   "outputs": [
    {
     "ename": "IndentationError",
     "evalue": "unexpected indent (2016781659.py, line 4)",
     "output_type": "error",
     "traceback": [
      "\u001B[0;36m  Cell \u001B[0;32mIn[5], line 4\u001B[0;36m\u001B[0m\n\u001B[0;31m    print(np.random.binomial(5, 0.5, 10))\u001B[0m\n\u001B[0m    ^\u001B[0m\n\u001B[0;31mIndentationError\u001B[0m\u001B[0;31m:\u001B[0m unexpected indent\n"
     ]
    }
   ],
   "execution_count": 5
  },
  {
   "metadata": {
    "ExecuteTime": {
     "end_time": "2024-08-20T02:31:39.720622Z",
     "start_time": "2024-08-20T02:31:39.719312Z"
    }
   },
   "cell_type": "code",
   "source": "",
   "id": "7bd5b8e0feeac94",
   "outputs": [],
   "execution_count": 5
  }
 ],
 "metadata": {
  "kernelspec": {
   "display_name": "Python 3",
   "language": "python",
   "name": "python3"
  },
  "language_info": {
   "codemirror_mode": {
    "name": "ipython",
    "version": 2
   },
   "file_extension": ".py",
   "mimetype": "text/x-python",
   "name": "python",
   "nbconvert_exporter": "python",
   "pygments_lexer": "ipython2",
   "version": "2.7.6"
  }
 },
 "nbformat": 4,
 "nbformat_minor": 5
}
