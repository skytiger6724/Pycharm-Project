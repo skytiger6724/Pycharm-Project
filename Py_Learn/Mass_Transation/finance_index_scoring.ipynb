{
 "cells": [
  {
   "metadata": {
    "ExecuteTime": {
     "end_time": "2024-09-04T00:23:47.434154Z",
     "start_time": "2024-09-04T00:23:47.431178Z"
    }
   },
   "cell_type": "code",
   "source": [
    "\n",
    "import pandas as pd\n",
    "import numpy as np\n",
    "from datetime import datetime\n",
    "#画图\n",
    "import matplotlib.pyplot as plt\n",
    "%matplotlib inline\n",
    "from pylab import mpl\n",
    "mpl.rcParams['font.sans-serif']=['Arial Unicode MS']\n",
    "mpl.rcParams['axes.unicode_minus']=False\n",
    "#获取数据\n",
    "import yfinance as yf \n"
   ],
   "id": "cf0a6513b25ce9eb",
   "outputs": [],
   "execution_count": 10
  },
  {
   "metadata": {
    "ExecuteTime": {
     "end_time": "2024-09-04T00:23:47.437938Z",
     "start_time": "2024-09-04T00:23:47.435172Z"
    }
   },
   "cell_type": "code",
   "source": [
    "# Mock get_indicators function for testing (Replace this with your actual implementation)\n",
    "def get_indicators(code):\n",
    "    # Mock data for testing\n",
    "    data = pd.DataFrame({\n",
    "        'tr_yoy': np.random.uniform(5, 15, 10),  # 营业收入增长率\n",
    "        'op_yoy': np.random.uniform(10, 30, 10),  # 营业利润增长率\n",
    "        'grossprofit_margin': np.random.uniform(20, 40, 10),  # 毛利率\n",
    "        'expense_of_sales': np.random.uniform(5, 15, 10),  # 期间费用率\n",
    "        'inv_turn': np.random.uniform(1, 3, 10),  # 存货周转率\n",
    "        'ocfps': np.random.uniform(0, 5, 10),  # 每股经营性现金流\n",
    "        'eps': np.random.uniform(0, 5, 10),  # 每股收益\n",
    "        'roe_yearly': np.random.uniform(10, 20, 10),  # 年化净资产收益率\n",
    "        'roa2_yearly': np.random.uniform(5, 10, 10),  # 总资产收益率\n",
    "        'pb': np.random.uniform(1, 5, 10),  # 市净率\n",
    "        'pe_ttm': np.random.uniform(10, 30, 10),  # 动态市盈率\n",
    "        'netprofit_yoy': np.random.uniform(10, 20, 10)  # 盈利增长率\n",
    "    })\n",
    "    return data\n"
   ],
   "id": "1b3d93d062b67341",
   "outputs": [],
   "execution_count": 11
  },
  {
   "metadata": {
    "ExecuteTime": {
     "end_time": "2024-09-04T00:23:47.453617Z",
     "start_time": "2024-09-04T00:23:47.448401Z"
    }
   },
   "cell_type": "code",
   "source": [
    "#存在缺失值或者负值（市盈率）情况下评分直接为0\n",
    "#营业收入增长率打分（0-10）\n",
    "def cal_tryoy(y):\n",
    "    '''y是营业收入增长率'''\n",
    "    try:\n",
    "        return 5+ min(round(y-10),5) if y>=10 else 5+ max(round(y-10),-5)\n",
    "    except:\n",
    "        return 0\n",
    "#营业利润增长率打分(0-10)\n",
    "def cal_opyoy(y):\n",
    "    '''y是营业利润增长率'''\n",
    "    try:\n",
    "        return 5+ min(round((y-20)/2),5) if y>=20 else 5+ max(round((y-20)/2),-5)\n",
    "    except:\n",
    "        return 0\n",
    "#毛利率打分\n",
    "def cal_gpm(y):\n",
    "    '''y是最近季度毛利率-前三季度平均毛利率'''\n",
    "    try:\n",
    "        return 5+min(round(y)/0.5,5) if y>0 else max(round(y)/0.5,-5)+5\n",
    "    except:\n",
    "        return 0\n",
    "#期间费用率打分\n",
    "def cal_exp(y):\n",
    "    '''y是最近季度期间费用率-前三季度平均期间费用率'''\n",
    "    try:\n",
    "        return 5+min(round(y)/0.5,5) if y>0 else max(round(y)/0.5,-5)+5\n",
    "    except:\n",
    "        return 0\n",
    "#存货周转率打分\n",
    "def cal_inv(y):\n",
    "    '''y是（最近季度存货周转率-前三季度平均存货周转率）/前三季度平均存货周转率*100'''\n",
    "    try:\n",
    "        return 5+min(round(y/2),5) if y>0 else max(round(y/2),-5)+5\n",
    "    except:\n",
    "        return 0\n",
    "#每股经营性现金流打分\n",
    "def cal_ocfp(y):\n",
    "    '''y是（最近三季度每股经营性现金流之和-最近三季度每股收益之和）/最近三季度每股收益之和*100'''\n",
    "    try:\n",
    "        return 5+min(round(y/4),5) if y>0 else max(round(y/4),-5)+5\n",
    "    except:\n",
    "        return 0\n",
    "#净资产收益率打分\n",
    "def cal_roe(y):\n",
    "    '''y是年化净资产收益率'''\n",
    "    try:\n",
    "        return 5+ min(round(y-15),5) if y>=15 else 5+ max(round(y-15),-5)\n",
    "    except:\n",
    "        return 0\n",
    "#总资产报酬率打分\n",
    "def cal_roa(y):\n",
    "    '''y是最近季度年化总资产报酬率'''\n",
    "    try:\n",
    "        return min(round((y-5)/0.5),10) if y>=5 else max(round(y-5),0)\n",
    "    except:\n",
    "        return 0\n",
    "#市净率打分\n",
    "def cal_pb(y):\n",
    "    '''y是市净率'''\n",
    "    try:\n",
    "        return 5-max(round((y-3)/0.4),-5) if y<=3 else 5-min(round((y-3)/0.4),5)\n",
    "    except:\n",
    "        return 0\n",
    "#动态市盈率相对盈利增长率（PEG）打分\n",
    "def cal_pe(y):\n",
    "    '''y是动态市盈率相对盈利增长率'''\n",
    "    try:\n",
    "        return 5-max(round((y-1)/0.1),-5) if y<=1 else 5-min(round((y-1)/0.1),5)\n",
    "    except:\n",
    "        return 0"
   ],
   "id": "5475840180649008",
   "outputs": [],
   "execution_count": 12
  },
  {
   "metadata": {
    "ExecuteTime": {
     "end_time": "2024-09-04T00:23:47.459544Z",
     "start_time": "2024-09-04T00:23:47.454563Z"
    }
   },
   "cell_type": "code",
   "source": [
    "#存在缺失值或者负值（市盈率）情况下评分直接为0\n",
    "#营业收入增长率打分（0-10）\n",
    "def cal_tryoy(y):\n",
    "    '''y是营业收入增长率'''\n",
    "    try:\n",
    "        return 5+ min(round(y-10),5) if y>=10 else 5+ max(round(y-10),-5)\n",
    "    except:\n",
    "        return 0\n",
    "#营业利润增长率打分(0-10)\n",
    "def cal_opyoy(y):\n",
    "    '''y是营业利润增长率'''\n",
    "    try:\n",
    "        return 5+ min(round((y-20)/2),5) if y>=20 else 5+ max(round((y-20)/2),-5)\n",
    "    except:\n",
    "        return 0\n",
    "#毛利率打分\n",
    "def cal_gpm(y):\n",
    "    '''y是最近季度毛利率-前三季度平均毛利率'''\n",
    "    try:\n",
    "        return 5+min(round(y)/0.5,5) if y>0 else max(round(y)/0.5,-5)+5\n",
    "    except:\n",
    "        return 0\n",
    "#期间费用率打分\n",
    "def cal_exp(y):\n",
    "    '''y是最近季度期间费用率-前三季度平均期间费用率'''\n",
    "    try:\n",
    "        return 5+min(round(y)/0.5,5) if y>0 else max(round(y)/0.5,-5)+5\n",
    "    except:\n",
    "        return 0\n",
    "#存货周转率打分\n",
    "def cal_inv(y):\n",
    "    '''y是（最近季度存货周转率-前三季度平均存货周转率）/前三季度平均存货周转率*100'''\n",
    "    try:\n",
    "        return 5+min(round(y/2),5) if y>0 else max(round(y/2),-5)+5\n",
    "    except:\n",
    "        return 0\n",
    "#每股经营性现金流打分\n",
    "def cal_ocfp(y):\n",
    "    '''y是（最近三季度每股经营性现金流之和-最近三季度每股收益之和）/最近三季度每股收益之和*100'''\n",
    "    try:\n",
    "        return 5+min(round(y/4),5) if y>0 else max(round(y/4),-5)+5\n",
    "    except:\n",
    "        return 0\n",
    "#净资产收益率打分\n",
    "def cal_roe(y):\n",
    "    '''y是年化净资产收益率'''\n",
    "    try:\n",
    "        return 5+ min(round(y-15),5) if y>=15 else 5+ max(round(y-15),-5)\n",
    "    except:\n",
    "        return 0\n",
    "#总资产报酬率打分\n",
    "def cal_roa(y):\n",
    "    '''y是最近季度年化总资产报酬率'''\n",
    "    try:\n",
    "        return min(round((y-5)/0.5),10) if y>=5 else max(round(y-5),0)\n",
    "    except:\n",
    "        return 0\n",
    "#市净率打分\n",
    "def cal_pb(y):\n",
    "    '''y是市净率'''\n",
    "    try:\n",
    "        return 5-max(round((y-3)/0.4),-5) if y<=3 else 5-min(round((y-3)/0.4),5)\n",
    "    except:\n",
    "        return 0\n",
    "#动态市盈率相对盈利增长率（PEG）打分\n",
    "def cal_pe(y):\n",
    "    '''y是动态市盈率相对盈利增长率'''\n",
    "    try:\n",
    "        return 5-max(round((y-1)/0.1),-5) if y<=1 else 5-min(round((y-1)/0.1),5)\n",
    "    except:\n",
    "        return 0"
   ],
   "id": "fc58085b0df9c2da",
   "outputs": [],
   "execution_count": 13
  },
  {
   "metadata": {
    "ExecuteTime": {
     "end_time": "2024-09-04T00:23:47.464058Z",
     "start_time": "2024-09-04T00:23:47.460264Z"
    }
   },
   "cell_type": "code",
   "source": [
    "# 指标得分计算\n",
    "def indicator_score(code):\n",
    "    data = get_indicators(code)\n",
    "\n",
    "    # 如果 data 没有 date 列，使用 data.index 或者生成日期\n",
    "    if 'date' not in data.columns:\n",
    "        data['date'] = data.index  # 如果 data.index 是日期类型\n",
    "        # 或者生成日期列，例如从 2020-01-01 开始，每个数据点增加一天\n",
    "        # data['date'] = pd.date_range(start='2020-01-01', periods=len(data), freq='D')\n",
    "\n",
    "    # 计算各项指标得分\n",
    "    data['营收得分'] = data['tr_yoy'].apply(cal_tryoy)\n",
    "    data['利润得分'] = data['op_yoy'].apply(cal_opyoy)\n",
    "    data['gpm'] = data['grossprofit_margin'] - data['grossprofit_margin'].rolling(3).mean()\n",
    "    data['毛利得分'] = data['gpm'].apply(cal_gpm)\n",
    "    data['exp'] = data['expense_of_sales'] - data['expense_of_sales'].rolling(3).mean()\n",
    "    data['费用得分'] = data['exp'].apply(cal_exp)\n",
    "    data['inv'] = (data['inv_turn'] - data['inv_turn'].rolling(3).mean()) * 100 / data['inv_turn'].rolling(3).mean()\n",
    "    data['周转得分'] = data['inv'].apply(cal_inv)\n",
    "    data['ocf'] = (data['ocfps'].rolling(3).sum() - data['eps'].rolling(3).sum()) * 100 / data['eps'].rolling(3).sum()\n",
    "    data['现金得分'] = data['ocf'].apply(cal_ocfp)\n",
    "    data['净资产得分'] = data['roe_yearly'].apply(cal_roe)\n",
    "    data['总资产得分'] = data['roa2_yearly'].apply(cal_roa)\n",
    "    data['市净率得分'] = data['pb'].apply(cal_pb)\n",
    "    data['peg'] = data['pe_ttm'] / data['netprofit_yoy'].rolling(3).mean()\n",
    "    data['市盈率得分'] = data['peg'].apply(cal_pe)\n",
    "\n",
    "    # 计算总分\n",
    "    data['总分'] = data[['营收得分', '利润得分', '毛利得分', '费用得分', '周转得分', '现金得分', '净资产得分', \n",
    "                    '总资产得分', '市净率得分', '市盈率得分']].sum(axis=1)\n",
    "\n",
    "    # 返回数据框，并确保包含日期列\n",
    "    return data[['date', '营收得分', '利润得分', '毛利得分', '费用得分', '周转得分', '现金得分', '净资产得分', \n",
    "                 '总资产得分', '市净率得分', '市盈率得分', '总分']]"
   ],
   "id": "2cc183b37f12a1d7",
   "outputs": [],
   "execution_count": 14
  },
  {
   "metadata": {
    "ExecuteTime": {
     "end_time": "2024-09-04T00:23:47.468968Z",
     "start_time": "2024-09-04T00:23:47.465175Z"
    }
   },
   "cell_type": "code",
   "source": [
    "def indicator_score(code):\n",
    "    data = get_indicators(code)\n",
    "\n",
    "    # 如果 data 没有 date 列，使用 data.index 或者生成日期\n",
    "    if 'date' not in data.columns:\n",
    "        data['date'] = data.index  # 如果 data.index 是日期类型\n",
    "        # 或者生成日期列，例如从 2020-01-01 开始，每个数据点增加一天\n",
    "        # data['date'] = pd.date_range(start='2020-01-01', periods=len(data), freq='D')\n",
    "\n",
    "    # 计算各项指标得分\n",
    "    data['营收得分'] = data['tr_yoy'].apply(cal_tryoy)\n",
    "    data['利润得分'] = data['op_yoy'].apply(cal_opyoy)\n",
    "    data['gpm'] = data['grossprofit_margin'] - data['grossprofit_margin'].rolling(3).mean()\n",
    "    data['毛利得分'] = data['gpm'].apply(cal_gpm)\n",
    "    data['exp'] = data['expense_of_sales'] - data['expense_of_sales'].rolling(3).mean()\n",
    "    data['费用得分'] = data['exp'].apply(cal_exp)\n",
    "    data['inv'] = (data['inv_turn'] - data['inv_turn'].rolling(3).mean()) * 100 / data['inv_turn'].rolling(3).mean()\n",
    "    data['周转得分'] = data['inv'].apply(cal_inv)\n",
    "    data['ocf'] = (data['ocfps'].rolling(3).sum() - data['eps'].rolling(3).sum()) * 100 / data['eps'].rolling(3).sum()\n",
    "    data['现金得分'] = data['ocf'].apply(cal_ocfp)\n",
    "    data['净资产得分'] = data['roe_yearly'].apply(cal_roe)\n",
    "    data['总资产得分'] = data['roa2_yearly'].apply(cal_roa)\n",
    "    data['市净率得分'] = data['pb'].apply(cal_pb)\n",
    "    data['peg'] = data['pe_ttm'] / data['netprofit_yoy'].rolling(3).mean()\n",
    "    data['市盈率得分'] = data['peg'].apply(cal_pe)\n",
    "\n",
    "    # 计算总分\n",
    "    data['总分'] = data[['营收得分', '利润得分', '毛利得分', '费用得分', '周转得分', '现金得分', '净资产得分', \n",
    "                    '总资产得分', '市净率得分', '市盈率得分']].sum(axis=1)\n",
    "\n",
    "    # 返回数据框，并确保包含日期列\n",
    "    return data[['date', '营收得分', '利润得分', '毛利得分', '费用得分', '周转得分', '现金得分', '净资产得分', \n",
    "                 '总资产得分', '市净率得分', '市盈率得分', '总分']]"
   ],
   "id": "c9ed8734cd7c165a",
   "outputs": [],
   "execution_count": 15
  },
  {
   "metadata": {
    "ExecuteTime": {
     "end_time": "2024-09-04T00:23:47.607003Z",
     "start_time": "2024-09-04T00:23:47.469520Z"
    }
   },
   "cell_type": "code",
   "source": [
    " # 测试 TSMC 的指标得分\n",
    "code = '2330.TW'\n",
    "result = indicator_score(code)\n",
    "print(result)"
   ],
   "id": "5e6da1dede9074b8",
   "outputs": [
    {
     "name": "stderr",
     "output_type": "stream",
     "text": [
      "/var/folders/_z/wf028lv51rl4_zw8pxj4k3740000gn/T/ipykernel_88972/1608334184.py:24: FutureWarning: A value is trying to be set on a copy of a DataFrame or Series through chained assignment using an inplace method.\n",
      "The behavior will change in pandas 3.0. This inplace method will never work because the intermediate object on which we are setting values always behaves as a copy.\n",
      "\n",
      "For example, when doing 'df[col].method(value, inplace=True)', try using 'df.method({col: value}, inplace=True)' or df[col] = df[col].method(value) instead, to perform the operation inplace on the original object.\n",
      "\n",
      "\n",
      "  df['pb'].fillna(method='ffill', inplace=True)\n",
      "/var/folders/_z/wf028lv51rl4_zw8pxj4k3740000gn/T/ipykernel_88972/1608334184.py:24: FutureWarning: Series.fillna with 'method' is deprecated and will raise in a future version. Use obj.ffill() or obj.bfill() instead.\n",
      "  df['pb'].fillna(method='ffill', inplace=True)\n"
     ]
    },
    {
     "ename": "KeyError",
     "evalue": "'tr_yoy'",
     "output_type": "error",
     "traceback": [
      "\u001B[0;31m---------------------------------------------------------------------------\u001B[0m",
      "\u001B[0;31mKeyError\u001B[0m                                  Traceback (most recent call last)",
      "File \u001B[0;32m/opt/anaconda3/lib/python3.11/site-packages/pandas/core/indexes/base.py:3805\u001B[0m, in \u001B[0;36mIndex.get_loc\u001B[0;34m(self, key)\u001B[0m\n\u001B[1;32m   3804\u001B[0m \u001B[38;5;28;01mtry\u001B[39;00m:\n\u001B[0;32m-> 3805\u001B[0m     \u001B[38;5;28;01mreturn\u001B[39;00m \u001B[38;5;28;43mself\u001B[39;49m\u001B[38;5;241;43m.\u001B[39;49m\u001B[43m_engine\u001B[49m\u001B[38;5;241;43m.\u001B[39;49m\u001B[43mget_loc\u001B[49m\u001B[43m(\u001B[49m\u001B[43mcasted_key\u001B[49m\u001B[43m)\u001B[49m\n\u001B[1;32m   3806\u001B[0m \u001B[38;5;28;01mexcept\u001B[39;00m \u001B[38;5;167;01mKeyError\u001B[39;00m \u001B[38;5;28;01mas\u001B[39;00m err:\n",
      "File \u001B[0;32mindex.pyx:167\u001B[0m, in \u001B[0;36mpandas._libs.index.IndexEngine.get_loc\u001B[0;34m()\u001B[0m\n",
      "File \u001B[0;32mindex.pyx:196\u001B[0m, in \u001B[0;36mpandas._libs.index.IndexEngine.get_loc\u001B[0;34m()\u001B[0m\n",
      "File \u001B[0;32mpandas/_libs/hashtable_class_helper.pxi:7081\u001B[0m, in \u001B[0;36mpandas._libs.hashtable.PyObjectHashTable.get_item\u001B[0;34m()\u001B[0m\n",
      "File \u001B[0;32mpandas/_libs/hashtable_class_helper.pxi:7089\u001B[0m, in \u001B[0;36mpandas._libs.hashtable.PyObjectHashTable.get_item\u001B[0;34m()\u001B[0m\n",
      "\u001B[0;31mKeyError\u001B[0m: 'tr_yoy'",
      "\nThe above exception was the direct cause of the following exception:\n",
      "\u001B[0;31mKeyError\u001B[0m                                  Traceback (most recent call last)",
      "Cell \u001B[0;32mIn[16], line 3\u001B[0m\n\u001B[1;32m      1\u001B[0m \u001B[38;5;66;03m# 测试 TSMC 的指标得分\u001B[39;00m\n\u001B[1;32m      2\u001B[0m code \u001B[38;5;241m=\u001B[39m \u001B[38;5;124m'\u001B[39m\u001B[38;5;124m2330.TW\u001B[39m\u001B[38;5;124m'\u001B[39m\n\u001B[0;32m----> 3\u001B[0m result \u001B[38;5;241m=\u001B[39m \u001B[43mindicator_score\u001B[49m\u001B[43m(\u001B[49m\u001B[43mcode\u001B[49m\u001B[43m)\u001B[49m\n\u001B[1;32m      4\u001B[0m \u001B[38;5;28mprint\u001B[39m(result)\n",
      "Cell \u001B[0;32mIn[15], line 11\u001B[0m, in \u001B[0;36mindicator_score\u001B[0;34m(code)\u001B[0m\n\u001B[1;32m      6\u001B[0m     data[\u001B[38;5;124m'\u001B[39m\u001B[38;5;124mdate\u001B[39m\u001B[38;5;124m'\u001B[39m] \u001B[38;5;241m=\u001B[39m data\u001B[38;5;241m.\u001B[39mindex  \u001B[38;5;66;03m# 如果 data.index 是日期类型\u001B[39;00m\n\u001B[1;32m      7\u001B[0m     \u001B[38;5;66;03m# 或者生成日期列，例如从 2020-01-01 开始，每个数据点增加一天\u001B[39;00m\n\u001B[1;32m      8\u001B[0m     \u001B[38;5;66;03m# data['date'] = pd.date_range(start='2020-01-01', periods=len(data), freq='D')\u001B[39;00m\n\u001B[1;32m      9\u001B[0m \n\u001B[1;32m     10\u001B[0m \u001B[38;5;66;03m# 计算各项指标得分\u001B[39;00m\n\u001B[0;32m---> 11\u001B[0m data[\u001B[38;5;124m'\u001B[39m\u001B[38;5;124m营收得分\u001B[39m\u001B[38;5;124m'\u001B[39m] \u001B[38;5;241m=\u001B[39m \u001B[43mdata\u001B[49m\u001B[43m[\u001B[49m\u001B[38;5;124;43m'\u001B[39;49m\u001B[38;5;124;43mtr_yoy\u001B[39;49m\u001B[38;5;124;43m'\u001B[39;49m\u001B[43m]\u001B[49m\u001B[38;5;241m.\u001B[39mapply(cal_tryoy)\n\u001B[1;32m     12\u001B[0m data[\u001B[38;5;124m'\u001B[39m\u001B[38;5;124m利润得分\u001B[39m\u001B[38;5;124m'\u001B[39m] \u001B[38;5;241m=\u001B[39m data[\u001B[38;5;124m'\u001B[39m\u001B[38;5;124mop_yoy\u001B[39m\u001B[38;5;124m'\u001B[39m]\u001B[38;5;241m.\u001B[39mapply(cal_opyoy)\n\u001B[1;32m     13\u001B[0m data[\u001B[38;5;124m'\u001B[39m\u001B[38;5;124mgpm\u001B[39m\u001B[38;5;124m'\u001B[39m] \u001B[38;5;241m=\u001B[39m data[\u001B[38;5;124m'\u001B[39m\u001B[38;5;124mgrossprofit_margin\u001B[39m\u001B[38;5;124m'\u001B[39m] \u001B[38;5;241m-\u001B[39m data[\u001B[38;5;124m'\u001B[39m\u001B[38;5;124mgrossprofit_margin\u001B[39m\u001B[38;5;124m'\u001B[39m]\u001B[38;5;241m.\u001B[39mrolling(\u001B[38;5;241m3\u001B[39m)\u001B[38;5;241m.\u001B[39mmean()\n",
      "File \u001B[0;32m/opt/anaconda3/lib/python3.11/site-packages/pandas/core/frame.py:4102\u001B[0m, in \u001B[0;36mDataFrame.__getitem__\u001B[0;34m(self, key)\u001B[0m\n\u001B[1;32m   4100\u001B[0m \u001B[38;5;28;01mif\u001B[39;00m \u001B[38;5;28mself\u001B[39m\u001B[38;5;241m.\u001B[39mcolumns\u001B[38;5;241m.\u001B[39mnlevels \u001B[38;5;241m>\u001B[39m \u001B[38;5;241m1\u001B[39m:\n\u001B[1;32m   4101\u001B[0m     \u001B[38;5;28;01mreturn\u001B[39;00m \u001B[38;5;28mself\u001B[39m\u001B[38;5;241m.\u001B[39m_getitem_multilevel(key)\n\u001B[0;32m-> 4102\u001B[0m indexer \u001B[38;5;241m=\u001B[39m \u001B[38;5;28;43mself\u001B[39;49m\u001B[38;5;241;43m.\u001B[39;49m\u001B[43mcolumns\u001B[49m\u001B[38;5;241;43m.\u001B[39;49m\u001B[43mget_loc\u001B[49m\u001B[43m(\u001B[49m\u001B[43mkey\u001B[49m\u001B[43m)\u001B[49m\n\u001B[1;32m   4103\u001B[0m \u001B[38;5;28;01mif\u001B[39;00m is_integer(indexer):\n\u001B[1;32m   4104\u001B[0m     indexer \u001B[38;5;241m=\u001B[39m [indexer]\n",
      "File \u001B[0;32m/opt/anaconda3/lib/python3.11/site-packages/pandas/core/indexes/base.py:3812\u001B[0m, in \u001B[0;36mIndex.get_loc\u001B[0;34m(self, key)\u001B[0m\n\u001B[1;32m   3807\u001B[0m     \u001B[38;5;28;01mif\u001B[39;00m \u001B[38;5;28misinstance\u001B[39m(casted_key, \u001B[38;5;28mslice\u001B[39m) \u001B[38;5;129;01mor\u001B[39;00m (\n\u001B[1;32m   3808\u001B[0m         \u001B[38;5;28misinstance\u001B[39m(casted_key, abc\u001B[38;5;241m.\u001B[39mIterable)\n\u001B[1;32m   3809\u001B[0m         \u001B[38;5;129;01mand\u001B[39;00m \u001B[38;5;28many\u001B[39m(\u001B[38;5;28misinstance\u001B[39m(x, \u001B[38;5;28mslice\u001B[39m) \u001B[38;5;28;01mfor\u001B[39;00m x \u001B[38;5;129;01min\u001B[39;00m casted_key)\n\u001B[1;32m   3810\u001B[0m     ):\n\u001B[1;32m   3811\u001B[0m         \u001B[38;5;28;01mraise\u001B[39;00m InvalidIndexError(key)\n\u001B[0;32m-> 3812\u001B[0m     \u001B[38;5;28;01mraise\u001B[39;00m \u001B[38;5;167;01mKeyError\u001B[39;00m(key) \u001B[38;5;28;01mfrom\u001B[39;00m \u001B[38;5;21;01merr\u001B[39;00m\n\u001B[1;32m   3813\u001B[0m \u001B[38;5;28;01mexcept\u001B[39;00m \u001B[38;5;167;01mTypeError\u001B[39;00m:\n\u001B[1;32m   3814\u001B[0m     \u001B[38;5;66;03m# If we have a listlike key, _check_indexing_error will raise\u001B[39;00m\n\u001B[1;32m   3815\u001B[0m     \u001B[38;5;66;03m#  InvalidIndexError. Otherwise we fall through and re-raise\u001B[39;00m\n\u001B[1;32m   3816\u001B[0m     \u001B[38;5;66;03m#  the TypeError.\u001B[39;00m\n\u001B[1;32m   3817\u001B[0m     \u001B[38;5;28mself\u001B[39m\u001B[38;5;241m.\u001B[39m_check_indexing_error(key)\n",
      "\u001B[0;31mKeyError\u001B[0m: 'tr_yoy'"
     ]
    }
   ],
   "execution_count": 16
  },
  {
   "metadata": {},
   "cell_type": "markdown",
   "source": "",
   "id": "383fbaf7d090a435"
  },
  {
   "metadata": {},
   "cell_type": "code",
   "source": "",
   "id": "563d5ce2842402f7",
   "outputs": [],
   "execution_count": null
  },
  {
   "metadata": {},
   "cell_type": "code",
   "source": "",
   "id": "ff0f2199b41ba9e4",
   "outputs": [],
   "execution_count": null
  }
 ],
 "metadata": {
  "kernelspec": {
   "display_name": "Python 3",
   "language": "python",
   "name": "python3"
  },
  "language_info": {
   "codemirror_mode": {
    "name": "ipython",
    "version": 2
   },
   "file_extension": ".py",
   "mimetype": "text/x-python",
   "name": "python",
   "nbconvert_exporter": "python",
   "pygments_lexer": "ipython2",
   "version": "2.7.6"
  }
 },
 "nbformat": 4,
 "nbformat_minor": 5
}
