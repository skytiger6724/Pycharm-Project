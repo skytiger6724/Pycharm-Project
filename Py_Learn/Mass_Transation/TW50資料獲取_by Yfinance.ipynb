{
 "cells": [
  {
   "metadata": {
    "ExecuteTime": {
     "end_time": "2024-08-30T02:49:33.398985Z",
     "start_time": "2024-08-30T02:49:25.525346Z"
    }
   },
   "cell_type": "code",
   "source": [
    "#用yfinance改寫，我們稍微修改一下，改成取得ETF50的1月至8月的股票資料。\n",
    "import pandas as pd\n",
    "import yfinance as yf\n",
    "from datetime import datetime\n",
    "\n",
    "# Load ETF50 stock IDs\n",
    "etf50_df = pd.read_csv(\"ETF50.csv\")\n",
    "etf50_id = etf50_df.loc[:, \"STOCK_ID\"].astype(str)\n",
    "\n",
    "frames = []\n",
    "start_date = \"2020-01-01\"\n",
    "end_date = None\n",
    "\n",
    "\n",
    "for stock_id in etf50_id:\n",
    "    # Download historical data using yfinance\n",
    "    ticker = f\"{stock_id}.TW\"\n",
    "    df = yf.download(ticker, start=start_date, end=end_date)\n",
    "\n",
    "    if not df.empty:\n",
    "        # Calculate Trading_money\n",
    "        df['Trading_money'] = df['Close'] * df['Volume']\n",
    "        # Add the stock ID to the dataframe\n",
    "        df['STOCK_ID'] = stock_id\n",
    "        frames.append(df)\n",
    "\n",
    "# Concatenate all dataframes\n",
    "result_df = pd.concat(frames)\n",
    "result_df = result_df.reset_index()\n",
    "\n",
    "# Save to CSV\n",
    "result_df.to_csv(\"2020-01-01-etf50-tech.csv\", index=False, header=True)\n",
    "print(result_df.head())"
   ],
   "id": "47581c86f5db6505",
   "outputs": [
    {
     "name": "stderr",
     "output_type": "stream",
     "text": [
      "[*********************100%%**********************]  1 of 1 completed\n",
      "[*********************100%%**********************]  1 of 1 completed\n",
      "[*********************100%%**********************]  1 of 1 completed\n",
      "[*********************100%%**********************]  1 of 1 completed\n",
      "[*********************100%%**********************]  1 of 1 completed\n",
      "[*********************100%%**********************]  1 of 1 completed\n",
      "[*********************100%%**********************]  1 of 1 completed\n",
      "[*********************100%%**********************]  1 of 1 completed\n",
      "[*********************100%%**********************]  1 of 1 completed\n",
      "[*********************100%%**********************]  1 of 1 completed\n",
      "[*********************100%%**********************]  1 of 1 completed\n",
      "[*********************100%%**********************]  1 of 1 completed\n",
      "[*********************100%%**********************]  1 of 1 completed\n",
      "[*********************100%%**********************]  1 of 1 completed\n",
      "[*********************100%%**********************]  1 of 1 completed\n",
      "[*********************100%%**********************]  1 of 1 completed\n",
      "[*********************100%%**********************]  1 of 1 completed\n",
      "[*********************100%%**********************]  1 of 1 completed\n",
      "[*********************100%%**********************]  1 of 1 completed\n",
      "[*********************100%%**********************]  1 of 1 completed\n",
      "[*********************100%%**********************]  1 of 1 completed\n",
      "[*********************100%%**********************]  1 of 1 completed\n",
      "[*********************100%%**********************]  1 of 1 completed\n",
      "[*********************100%%**********************]  1 of 1 completed\n",
      "[*********************100%%**********************]  1 of 1 completed\n",
      "[*********************100%%**********************]  1 of 1 completed\n",
      "[*********************100%%**********************]  1 of 1 completed\n",
      "[*********************100%%**********************]  1 of 1 completed\n",
      "[*********************100%%**********************]  1 of 1 completed\n",
      "[*********************100%%**********************]  1 of 1 completed\n",
      "[*********************100%%**********************]  1 of 1 completed\n",
      "[*********************100%%**********************]  1 of 1 completed\n",
      "[*********************100%%**********************]  1 of 1 completed\n",
      "[*********************100%%**********************]  1 of 1 completed\n",
      "[*********************100%%**********************]  1 of 1 completed\n",
      "[*********************100%%**********************]  1 of 1 completed\n",
      "[*********************100%%**********************]  1 of 1 completed\n",
      "[*********************100%%**********************]  1 of 1 completed\n",
      "[*********************100%%**********************]  1 of 1 completed\n",
      "[*********************100%%**********************]  1 of 1 completed\n",
      "[*********************100%%**********************]  1 of 1 completed\n",
      "[*********************100%%**********************]  1 of 1 completed\n",
      "[*********************100%%**********************]  1 of 1 completed\n",
      "[*********************100%%**********************]  1 of 1 completed\n",
      "[*********************100%%**********************]  1 of 1 completed\n",
      "[*********************100%%**********************]  1 of 1 completed\n",
      "[*********************100%%**********************]  1 of 1 completed\n",
      "[*********************100%%**********************]  1 of 1 completed\n",
      "[*********************100%%**********************]  1 of 1 completed\n",
      "[*********************100%%**********************]  1 of 1 completed\n"
     ]
    },
    {
     "name": "stdout",
     "output_type": "stream",
     "text": [
      "        Date   Open   High    Low  Close   Adj Close    Volume  Trading_money  \\\n",
      "0 2020-01-02  332.5  339.0  332.5  339.0  307.796692  31754120   1.076465e+10   \n",
      "1 2020-01-03  344.0  345.0  335.5  339.5  308.250610  41811268   1.419493e+10   \n",
      "2 2020-01-06  333.0  334.5  332.0  332.0  301.441010  45343057   1.505389e+10   \n",
      "3 2020-01-07  332.5  333.0  326.5  329.5  299.171051  50879181   1.676469e+10   \n",
      "4 2020-01-08  325.0  333.0  325.0  329.5  299.171051  37567748   1.237857e+10   \n",
      "\n",
      "  STOCK_ID  \n",
      "0     2330  \n",
      "1     2330  \n",
      "2     2330  \n",
      "3     2330  \n",
      "4     2330  \n"
     ]
    }
   ],
   "execution_count": 2
  },
  {
   "metadata": {},
   "cell_type": "code",
   "outputs": [],
   "execution_count": null,
   "source": "",
   "id": "77e7aa3788f16566"
  }
 ],
 "metadata": {
  "kernelspec": {
   "display_name": "Python 3",
   "language": "python",
   "name": "python3"
  },
  "language_info": {
   "codemirror_mode": {
    "name": "ipython",
    "version": 2
   },
   "file_extension": ".py",
   "mimetype": "text/x-python",
   "name": "python",
   "nbconvert_exporter": "python",
   "pygments_lexer": "ipython2",
   "version": "2.7.6"
  }
 },
 "nbformat": 4,
 "nbformat_minor": 5
}
