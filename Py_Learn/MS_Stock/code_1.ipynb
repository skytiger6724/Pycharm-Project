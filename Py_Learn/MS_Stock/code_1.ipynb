{
 "cells": [
  {
   "cell_type": "code",
   "id": "initial_id",
   "metadata": {
    "collapsed": true,
    "ExecuteTime": {
     "end_time": "2024-08-16T07:21:26.331840Z",
     "start_time": "2024-08-16T07:21:26.329445Z"
    }
   },
   "source": [
    "import pandas_datareader as web\n",
    "web.__version__ "
   ],
   "outputs": [
    {
     "data": {
      "text/plain": [
       "'0.10.0'"
      ]
     },
     "execution_count": 29,
     "metadata": {},
     "output_type": "execute_result"
    }
   ],
   "execution_count": 29
  },
  {
   "metadata": {
    "ExecuteTime": {
     "end_time": "2024-08-16T07:21:26.436373Z",
     "start_time": "2024-08-16T07:21:26.345061Z"
    }
   },
   "cell_type": "code",
   "source": [
    "import yfinance as yf\n",
    "\n",
    "#指定一下获取股票数据的起始日期和截止日期\n",
    "#这里就用2020年1月1日至3月18日的数据\n",
    "start_date = '2024-05-01'\n",
    "end_date = '2024-08-14'\n",
    "#创建数据表，这里选择下载的股票代码为601318\n",
    "#数据源设置为yahoo\n",
    "#并把我们把设定的开始日期和截止日期作为参数传入\n",
    "data = yf.download('00878.TW',start_date,end_date)\n",
    "#下面来检查一下数据表的前5行\n",
    "data.head()"
   ],
   "id": "22cba02b1d3cc7bb",
   "outputs": [
    {
     "name": "stderr",
     "output_type": "stream",
     "text": [
      "[*********************100%%**********************]  1 of 1 completed\n"
     ]
    },
    {
     "data": {
      "text/plain": [
       "                 Open       High        Low      Close  Adj Close     Volume\n",
       "Date                                                                        \n",
       "2024-05-02  22.250000  22.360001  22.129999  22.219999  21.739210  129879245\n",
       "2024-05-03  22.500000  22.500000  22.290001  22.299999  21.817478   63184164\n",
       "2024-05-06  22.580000  22.680000  22.469999  22.629999  22.140339   67089486\n",
       "2024-05-07  22.790001  22.820000  22.590000  22.760000  22.267527   94260122\n",
       "2024-05-08  22.760000  22.900000  22.760000  22.889999  22.394712   66133413"
      ],
      "text/html": [
       "<div>\n",
       "<style scoped>\n",
       "    .dataframe tbody tr th:only-of-type {\n",
       "        vertical-align: middle;\n",
       "    }\n",
       "\n",
       "    .dataframe tbody tr th {\n",
       "        vertical-align: top;\n",
       "    }\n",
       "\n",
       "    .dataframe thead th {\n",
       "        text-align: right;\n",
       "    }\n",
       "</style>\n",
       "<table border=\"1\" class=\"dataframe\">\n",
       "  <thead>\n",
       "    <tr style=\"text-align: right;\">\n",
       "      <th></th>\n",
       "      <th>Open</th>\n",
       "      <th>High</th>\n",
       "      <th>Low</th>\n",
       "      <th>Close</th>\n",
       "      <th>Adj Close</th>\n",
       "      <th>Volume</th>\n",
       "    </tr>\n",
       "    <tr>\n",
       "      <th>Date</th>\n",
       "      <th></th>\n",
       "      <th></th>\n",
       "      <th></th>\n",
       "      <th></th>\n",
       "      <th></th>\n",
       "      <th></th>\n",
       "    </tr>\n",
       "  </thead>\n",
       "  <tbody>\n",
       "    <tr>\n",
       "      <th>2024-05-02</th>\n",
       "      <td>22.250000</td>\n",
       "      <td>22.360001</td>\n",
       "      <td>22.129999</td>\n",
       "      <td>22.219999</td>\n",
       "      <td>21.739210</td>\n",
       "      <td>129879245</td>\n",
       "    </tr>\n",
       "    <tr>\n",
       "      <th>2024-05-03</th>\n",
       "      <td>22.500000</td>\n",
       "      <td>22.500000</td>\n",
       "      <td>22.290001</td>\n",
       "      <td>22.299999</td>\n",
       "      <td>21.817478</td>\n",
       "      <td>63184164</td>\n",
       "    </tr>\n",
       "    <tr>\n",
       "      <th>2024-05-06</th>\n",
       "      <td>22.580000</td>\n",
       "      <td>22.680000</td>\n",
       "      <td>22.469999</td>\n",
       "      <td>22.629999</td>\n",
       "      <td>22.140339</td>\n",
       "      <td>67089486</td>\n",
       "    </tr>\n",
       "    <tr>\n",
       "      <th>2024-05-07</th>\n",
       "      <td>22.790001</td>\n",
       "      <td>22.820000</td>\n",
       "      <td>22.590000</td>\n",
       "      <td>22.760000</td>\n",
       "      <td>22.267527</td>\n",
       "      <td>94260122</td>\n",
       "    </tr>\n",
       "    <tr>\n",
       "      <th>2024-05-08</th>\n",
       "      <td>22.760000</td>\n",
       "      <td>22.900000</td>\n",
       "      <td>22.760000</td>\n",
       "      <td>22.889999</td>\n",
       "      <td>22.394712</td>\n",
       "      <td>66133413</td>\n",
       "    </tr>\n",
       "  </tbody>\n",
       "</table>\n",
       "</div>"
      ]
     },
     "execution_count": 30,
     "metadata": {},
     "output_type": "execute_result"
    }
   ],
   "execution_count": 30
  },
  {
   "metadata": {
    "ExecuteTime": {
     "end_time": "2024-08-16T07:21:26.440610Z",
     "start_time": "2024-08-16T07:21:26.437177Z"
    }
   },
   "cell_type": "code",
   "source": [
    "data['diff'] = data['Close'].diff()\n",
    "data.head()"
   ],
   "id": "ec62d63efe0c83c8",
   "outputs": [
    {
     "data": {
      "text/plain": [
       "                 Open       High        Low      Close  Adj Close     Volume  \\\n",
       "Date                                                                           \n",
       "2024-05-02  22.250000  22.360001  22.129999  22.219999  21.739210  129879245   \n",
       "2024-05-03  22.500000  22.500000  22.290001  22.299999  21.817478   63184164   \n",
       "2024-05-06  22.580000  22.680000  22.469999  22.629999  22.140339   67089486   \n",
       "2024-05-07  22.790001  22.820000  22.590000  22.760000  22.267527   94260122   \n",
       "2024-05-08  22.760000  22.900000  22.760000  22.889999  22.394712   66133413   \n",
       "\n",
       "                diff  \n",
       "Date                  \n",
       "2024-05-02       NaN  \n",
       "2024-05-03  0.080000  \n",
       "2024-05-06  0.330000  \n",
       "2024-05-07  0.130001  \n",
       "2024-05-08  0.129999  "
      ],
      "text/html": [
       "<div>\n",
       "<style scoped>\n",
       "    .dataframe tbody tr th:only-of-type {\n",
       "        vertical-align: middle;\n",
       "    }\n",
       "\n",
       "    .dataframe tbody tr th {\n",
       "        vertical-align: top;\n",
       "    }\n",
       "\n",
       "    .dataframe thead th {\n",
       "        text-align: right;\n",
       "    }\n",
       "</style>\n",
       "<table border=\"1\" class=\"dataframe\">\n",
       "  <thead>\n",
       "    <tr style=\"text-align: right;\">\n",
       "      <th></th>\n",
       "      <th>Open</th>\n",
       "      <th>High</th>\n",
       "      <th>Low</th>\n",
       "      <th>Close</th>\n",
       "      <th>Adj Close</th>\n",
       "      <th>Volume</th>\n",
       "      <th>diff</th>\n",
       "    </tr>\n",
       "    <tr>\n",
       "      <th>Date</th>\n",
       "      <th></th>\n",
       "      <th></th>\n",
       "      <th></th>\n",
       "      <th></th>\n",
       "      <th></th>\n",
       "      <th></th>\n",
       "      <th></th>\n",
       "    </tr>\n",
       "  </thead>\n",
       "  <tbody>\n",
       "    <tr>\n",
       "      <th>2024-05-02</th>\n",
       "      <td>22.250000</td>\n",
       "      <td>22.360001</td>\n",
       "      <td>22.129999</td>\n",
       "      <td>22.219999</td>\n",
       "      <td>21.739210</td>\n",
       "      <td>129879245</td>\n",
       "      <td>NaN</td>\n",
       "    </tr>\n",
       "    <tr>\n",
       "      <th>2024-05-03</th>\n",
       "      <td>22.500000</td>\n",
       "      <td>22.500000</td>\n",
       "      <td>22.290001</td>\n",
       "      <td>22.299999</td>\n",
       "      <td>21.817478</td>\n",
       "      <td>63184164</td>\n",
       "      <td>0.080000</td>\n",
       "    </tr>\n",
       "    <tr>\n",
       "      <th>2024-05-06</th>\n",
       "      <td>22.580000</td>\n",
       "      <td>22.680000</td>\n",
       "      <td>22.469999</td>\n",
       "      <td>22.629999</td>\n",
       "      <td>22.140339</td>\n",
       "      <td>67089486</td>\n",
       "      <td>0.330000</td>\n",
       "    </tr>\n",
       "    <tr>\n",
       "      <th>2024-05-07</th>\n",
       "      <td>22.790001</td>\n",
       "      <td>22.820000</td>\n",
       "      <td>22.590000</td>\n",
       "      <td>22.760000</td>\n",
       "      <td>22.267527</td>\n",
       "      <td>94260122</td>\n",
       "      <td>0.130001</td>\n",
       "    </tr>\n",
       "    <tr>\n",
       "      <th>2024-05-08</th>\n",
       "      <td>22.760000</td>\n",
       "      <td>22.900000</td>\n",
       "      <td>22.760000</td>\n",
       "      <td>22.889999</td>\n",
       "      <td>22.394712</td>\n",
       "      <td>66133413</td>\n",
       "      <td>0.129999</td>\n",
       "    </tr>\n",
       "  </tbody>\n",
       "</table>\n",
       "</div>"
      ]
     },
     "execution_count": 31,
     "metadata": {},
     "output_type": "execute_result"
    }
   ],
   "execution_count": 31
  },
  {
   "metadata": {
    "ExecuteTime": {
     "end_time": "2024-08-16T07:21:26.444991Z",
     "start_time": "2024-08-16T07:21:26.441265Z"
    }
   },
   "cell_type": "code",
   "source": [
    "import numpy as np\n",
    "#创建交易信号字段，命名为Signal\n",
    "#如果diff值大于0，则Signal为1，否则为0\n",
    "data['Signal'] = np.where(data['diff'] > 0, 1, 0)\n",
    "data.head()"
   ],
   "id": "c90394549b075f00",
   "outputs": [
    {
     "data": {
      "text/plain": [
       "                 Open       High        Low      Close  Adj Close     Volume  \\\n",
       "Date                                                                           \n",
       "2024-05-02  22.250000  22.360001  22.129999  22.219999  21.739210  129879245   \n",
       "2024-05-03  22.500000  22.500000  22.290001  22.299999  21.817478   63184164   \n",
       "2024-05-06  22.580000  22.680000  22.469999  22.629999  22.140339   67089486   \n",
       "2024-05-07  22.790001  22.820000  22.590000  22.760000  22.267527   94260122   \n",
       "2024-05-08  22.760000  22.900000  22.760000  22.889999  22.394712   66133413   \n",
       "\n",
       "                diff  Signal  \n",
       "Date                          \n",
       "2024-05-02       NaN       0  \n",
       "2024-05-03  0.080000       1  \n",
       "2024-05-06  0.330000       1  \n",
       "2024-05-07  0.130001       1  \n",
       "2024-05-08  0.129999       1  "
      ],
      "text/html": [
       "<div>\n",
       "<style scoped>\n",
       "    .dataframe tbody tr th:only-of-type {\n",
       "        vertical-align: middle;\n",
       "    }\n",
       "\n",
       "    .dataframe tbody tr th {\n",
       "        vertical-align: top;\n",
       "    }\n",
       "\n",
       "    .dataframe thead th {\n",
       "        text-align: right;\n",
       "    }\n",
       "</style>\n",
       "<table border=\"1\" class=\"dataframe\">\n",
       "  <thead>\n",
       "    <tr style=\"text-align: right;\">\n",
       "      <th></th>\n",
       "      <th>Open</th>\n",
       "      <th>High</th>\n",
       "      <th>Low</th>\n",
       "      <th>Close</th>\n",
       "      <th>Adj Close</th>\n",
       "      <th>Volume</th>\n",
       "      <th>diff</th>\n",
       "      <th>Signal</th>\n",
       "    </tr>\n",
       "    <tr>\n",
       "      <th>Date</th>\n",
       "      <th></th>\n",
       "      <th></th>\n",
       "      <th></th>\n",
       "      <th></th>\n",
       "      <th></th>\n",
       "      <th></th>\n",
       "      <th></th>\n",
       "      <th></th>\n",
       "    </tr>\n",
       "  </thead>\n",
       "  <tbody>\n",
       "    <tr>\n",
       "      <th>2024-05-02</th>\n",
       "      <td>22.250000</td>\n",
       "      <td>22.360001</td>\n",
       "      <td>22.129999</td>\n",
       "      <td>22.219999</td>\n",
       "      <td>21.739210</td>\n",
       "      <td>129879245</td>\n",
       "      <td>NaN</td>\n",
       "      <td>0</td>\n",
       "    </tr>\n",
       "    <tr>\n",
       "      <th>2024-05-03</th>\n",
       "      <td>22.500000</td>\n",
       "      <td>22.500000</td>\n",
       "      <td>22.290001</td>\n",
       "      <td>22.299999</td>\n",
       "      <td>21.817478</td>\n",
       "      <td>63184164</td>\n",
       "      <td>0.080000</td>\n",
       "      <td>1</td>\n",
       "    </tr>\n",
       "    <tr>\n",
       "      <th>2024-05-06</th>\n",
       "      <td>22.580000</td>\n",
       "      <td>22.680000</td>\n",
       "      <td>22.469999</td>\n",
       "      <td>22.629999</td>\n",
       "      <td>22.140339</td>\n",
       "      <td>67089486</td>\n",
       "      <td>0.330000</td>\n",
       "      <td>1</td>\n",
       "    </tr>\n",
       "    <tr>\n",
       "      <th>2024-05-07</th>\n",
       "      <td>22.790001</td>\n",
       "      <td>22.820000</td>\n",
       "      <td>22.590000</td>\n",
       "      <td>22.760000</td>\n",
       "      <td>22.267527</td>\n",
       "      <td>94260122</td>\n",
       "      <td>0.130001</td>\n",
       "      <td>1</td>\n",
       "    </tr>\n",
       "    <tr>\n",
       "      <th>2024-05-08</th>\n",
       "      <td>22.760000</td>\n",
       "      <td>22.900000</td>\n",
       "      <td>22.760000</td>\n",
       "      <td>22.889999</td>\n",
       "      <td>22.394712</td>\n",
       "      <td>66133413</td>\n",
       "      <td>0.129999</td>\n",
       "      <td>1</td>\n",
       "    </tr>\n",
       "  </tbody>\n",
       "</table>\n",
       "</div>"
      ]
     },
     "execution_count": 32,
     "metadata": {},
     "output_type": "execute_result"
    }
   ],
   "execution_count": 32
  },
  {
   "metadata": {
    "ExecuteTime": {
     "end_time": "2024-08-16T07:21:26.525907Z",
     "start_time": "2024-08-16T07:21:26.445868Z"
    }
   },
   "cell_type": "code",
   "source": [
    "#导入画图工具matplotlib\n",
    "import matplotlib.pyplot as plt\n",
    "#设置画布的尺寸为10*5\n",
    "plt.figure(figsize = (10,5))\n",
    "#使用折线图绘制出每天的收盘价\n",
    "data['Close'].plot(linewidth=2, color='k', grid = True)\n",
    "#如果当天股价上涨，标出卖出信号，用倒三角表示\n",
    "plt.scatter(data['Close'].loc[data.Signal==1].index,\n",
    "        data['Close'][data.Signal==1],\n",
    "        marker = 'v', s=80, c='g')\n",
    "#如果当天股价下跌给出买入信号，用正三角表示\n",
    "plt.scatter(data['Close'].loc[data.Signal==0].index,\n",
    "        data['Close'][data.Signal==0],\n",
    "        marker = '^', s=80, c='r')\n",
    "plt.show()"
   ],
   "id": "a9df9c87bfd9e218",
   "outputs": [
    {
     "data": {
      "text/plain": [
       "<Figure size 1000x500 with 1 Axes>"
      ],
      "image/png": "[encoded data removed]"
     },
     "metadata": {},
     "output_type": "display_data"
    }
   ],
   "execution_count": 33
  },
  {
   "metadata": {
    "ExecuteTime": {
     "end_time": "2024-08-16T07:21:26.528167Z",
     "start_time": "2024-08-16T07:21:26.526664Z"
    }
   },
   "cell_type": "code",
   "source": "",
   "id": "e840759b44b3f0fc",
   "outputs": [],
   "execution_count": 33
  }
 ],
 "metadata": {
  "kernelspec": {
   "display_name": "Python 3",
   "language": "python",
   "name": "python3"
  },
  "language_info": {
   "codemirror_mode": {
    "name": "ipython",
    "version": 2
   },
   "file_extension": ".py",
   "mimetype": "text/x-python",
   "name": "python",
   "nbconvert_exporter": "python",
   "pygments_lexer": "ipython2",
   "version": "2.7.6"
  }
 },
 "nbformat": 4,
 "nbformat_minor": 5
}
