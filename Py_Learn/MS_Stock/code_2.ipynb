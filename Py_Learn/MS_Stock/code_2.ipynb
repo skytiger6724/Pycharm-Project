{
 "cells": [
  {
   "cell_type": "code",
   "id": "initial_id",
   "metadata": {
    "collapsed": true,
    "ExecuteTime": {
     "end_time": "2024-08-20T00:49:40.044444Z",
     "start_time": "2024-08-20T00:49:40.009467Z"
    }
   },
   "source": [
    "from pandas_datareader import data as dt\n",
    "import pandas as pd\n",
    "import numpy as np\n",
    "import matplotlib.pyplot as plt\n",
    "import seaborn as sns\n",
    "import yfinance as yf\n",
    "\n",
    "start_date = '2024-05-01'\n",
    "end_date = '2024-08-14'\n",
    "\n",
    "zgpa = yf.download('2330.TW',start_date,end_date)\n",
    "zgpa.head()"
   ],
   "outputs": [
    {
     "name": "stderr",
     "output_type": "stream",
     "text": [
      "[*********************100%%**********************]  1 of 1 completed\n"
     ]
    },
    {
     "data": {
      "text/plain": [
       "             Open   High    Low  Close   Adj Close    Volume\n",
       "Date                                                        \n",
       "2024-05-02  789.0  789.0  772.0  772.0  769.027649  40527228\n",
       "2024-05-03  788.0  788.0  773.0  780.0  776.996887  29901556\n",
       "2024-05-06  791.0  793.0  786.0  786.0  782.973755  32599878\n",
       "2024-05-07  797.0  800.0  792.0  800.0  796.919861  33890214\n",
       "2024-05-08  794.0  802.0  792.0  802.0  798.912170  21757193"
      ],
      "text/html": [
       "<div>\n",
       "<style scoped>\n",
       "    .dataframe tbody tr th:only-of-type {\n",
       "        vertical-align: middle;\n",
       "    }\n",
       "\n",
       "    .dataframe tbody tr th {\n",
       "        vertical-align: top;\n",
       "    }\n",
       "\n",
       "    .dataframe thead th {\n",
       "        text-align: right;\n",
       "    }\n",
       "</style>\n",
       "<table border=\"1\" class=\"dataframe\">\n",
       "  <thead>\n",
       "    <tr style=\"text-align: right;\">\n",
       "      <th></th>\n",
       "      <th>Open</th>\n",
       "      <th>High</th>\n",
       "      <th>Low</th>\n",
       "      <th>Close</th>\n",
       "      <th>Adj Close</th>\n",
       "      <th>Volume</th>\n",
       "    </tr>\n",
       "    <tr>\n",
       "      <th>Date</th>\n",
       "      <th></th>\n",
       "      <th></th>\n",
       "      <th></th>\n",
       "      <th></th>\n",
       "      <th></th>\n",
       "      <th></th>\n",
       "    </tr>\n",
       "  </thead>\n",
       "  <tbody>\n",
       "    <tr>\n",
       "      <th>2024-05-02</th>\n",
       "      <td>789.0</td>\n",
       "      <td>789.0</td>\n",
       "      <td>772.0</td>\n",
       "      <td>772.0</td>\n",
       "      <td>769.027649</td>\n",
       "      <td>40527228</td>\n",
       "    </tr>\n",
       "    <tr>\n",
       "      <th>2024-05-03</th>\n",
       "      <td>788.0</td>\n",
       "      <td>788.0</td>\n",
       "      <td>773.0</td>\n",
       "      <td>780.0</td>\n",
       "      <td>776.996887</td>\n",
       "      <td>29901556</td>\n",
       "    </tr>\n",
       "    <tr>\n",
       "      <th>2024-05-06</th>\n",
       "      <td>791.0</td>\n",
       "      <td>793.0</td>\n",
       "      <td>786.0</td>\n",
       "      <td>786.0</td>\n",
       "      <td>782.973755</td>\n",
       "      <td>32599878</td>\n",
       "    </tr>\n",
       "    <tr>\n",
       "      <th>2024-05-07</th>\n",
       "      <td>797.0</td>\n",
       "      <td>800.0</td>\n",
       "      <td>792.0</td>\n",
       "      <td>800.0</td>\n",
       "      <td>796.919861</td>\n",
       "      <td>33890214</td>\n",
       "    </tr>\n",
       "    <tr>\n",
       "      <th>2024-05-08</th>\n",
       "      <td>794.0</td>\n",
       "      <td>802.0</td>\n",
       "      <td>792.0</td>\n",
       "      <td>802.0</td>\n",
       "      <td>798.912170</td>\n",
       "      <td>21757193</td>\n",
       "    </tr>\n",
       "  </tbody>\n",
       "</table>\n",
       "</div>"
      ]
     },
     "execution_count": 99,
     "metadata": {},
     "output_type": "execute_result"
    }
   ],
   "execution_count": 99
  },
  {
   "cell_type": "code",
   "id": "1a27cdb95f69048a",
   "metadata": {
    "ExecuteTime": {
     "end_time": "2024-08-20T00:49:40.139188Z",
     "start_time": "2024-08-20T00:49:40.132417Z"
    }
   },
   "source": [
    "zgpa_signal = pd.DataFrame(index=zgpa.index)\n",
    "zgpa_signal['price'] = zgpa['Adj Close']\n",
    "\n",
    "# 計算差異，確保 'diff' 是數值\n",
    "zgpa_signal['diff'] = zgpa_signal['price'].diff()\n",
    "\n",
    "# 用 0.0 填充缺失值\n",
    "zgpa_signal = zgpa_signal.fillna(0.0)\n",
    "\n",
    "# 檢查 'diff' 的值類型，並生成 'signal'\n",
    "zgpa_signal['signal'] = np.where(zgpa_signal['diff'] >= 0, 0, 1)\n",
    "\n",
    "# 計算 'order'，確保差異計算正確\n",
    "zgpa_signal['order'] = zgpa_signal['signal'].diff() * 100\n",
    "\n",
    "zgpa_signal.head()\n"
   ],
   "outputs": [
    {
     "data": {
      "text/plain": [
       "                 price       diff  signal  order\n",
       "Date                                            \n",
       "2024-05-02  769.027649   0.000000       0    NaN\n",
       "2024-05-03  776.996887   7.969238       0    0.0\n",
       "2024-05-06  782.973755   5.976868       0    0.0\n",
       "2024-05-07  796.919861  13.946106       0    0.0\n",
       "2024-05-08  798.912170   1.992310       0    0.0"
      ],
      "text/html": [
       "<div>\n",
       "<style scoped>\n",
       "    .dataframe tbody tr th:only-of-type {\n",
       "        vertical-align: middle;\n",
       "    }\n",
       "\n",
       "    .dataframe tbody tr th {\n",
       "        vertical-align: top;\n",
       "    }\n",
       "\n",
       "    .dataframe thead th {\n",
       "        text-align: right;\n",
       "    }\n",
       "</style>\n",
       "<table border=\"1\" class=\"dataframe\">\n",
       "  <thead>\n",
       "    <tr style=\"text-align: right;\">\n",
       "      <th></th>\n",
       "      <th>price</th>\n",
       "      <th>diff</th>\n",
       "      <th>signal</th>\n",
       "      <th>order</th>\n",
       "    </tr>\n",
       "    <tr>\n",
       "      <th>Date</th>\n",
       "      <th></th>\n",
       "      <th></th>\n",
       "      <th></th>\n",
       "      <th></th>\n",
       "    </tr>\n",
       "  </thead>\n",
       "  <tbody>\n",
       "    <tr>\n",
       "      <th>2024-05-02</th>\n",
       "      <td>769.027649</td>\n",
       "      <td>0.000000</td>\n",
       "      <td>0</td>\n",
       "      <td>NaN</td>\n",
       "    </tr>\n",
       "    <tr>\n",
       "      <th>2024-05-03</th>\n",
       "      <td>776.996887</td>\n",
       "      <td>7.969238</td>\n",
       "      <td>0</td>\n",
       "      <td>0.0</td>\n",
       "    </tr>\n",
       "    <tr>\n",
       "      <th>2024-05-06</th>\n",
       "      <td>782.973755</td>\n",
       "      <td>5.976868</td>\n",
       "      <td>0</td>\n",
       "      <td>0.0</td>\n",
       "    </tr>\n",
       "    <tr>\n",
       "      <th>2024-05-07</th>\n",
       "      <td>796.919861</td>\n",
       "      <td>13.946106</td>\n",
       "      <td>0</td>\n",
       "      <td>0.0</td>\n",
       "    </tr>\n",
       "    <tr>\n",
       "      <th>2024-05-08</th>\n",
       "      <td>798.912170</td>\n",
       "      <td>1.992310</td>\n",
       "      <td>0</td>\n",
       "      <td>0.0</td>\n",
       "    </tr>\n",
       "  </tbody>\n",
       "</table>\n",
       "</div>"
      ]
     },
     "execution_count": 100,
     "metadata": {},
     "output_type": "execute_result"
    }
   ],
   "execution_count": 100
  },
  {
   "cell_type": "code",
   "id": "bfd34ef3db8d7738",
   "metadata": {
    "ExecuteTime": {
     "end_time": "2024-08-20T00:49:40.341651Z",
     "start_time": "2024-08-20T00:49:40.188456Z"
    }
   },
   "source": [
    "initial_cash = 200000\n",
    "\n",
    "zgpa_signal['stock']=zgpa_signal['order']*zgpa_signal['price']\n",
    "zgpa_signal['cash'] = initial_cash - zgpa_signal['stock'].cumsum()\n",
    "zgpa_signal['total'] = zgpa_signal['stock']+zgpa_signal['cash']\n",
    "plt.figure(figsize=(10,6))\n",
    "plt.plot(zgpa_signal['total'])\n",
    "plt.plot(zgpa_signal['order'].cumsum()*zgpa_signal['price'], '--', label = 'Stock Value')\n",
    "plt.grid()\n",
    "plt.legend(loc = 'center right')\n",
    "plt.show()"
   ],
   "outputs": [
    {
     "data": {
      "text/plain": [
       "<Figure size 1000x600 with 1 Axes>"
      ],
      "image/png": "[encoded data removed]"
     },
     "metadata": {},
     "output_type": "display_data"
    }
   ],
   "execution_count": 101
  },
  {
   "cell_type": "code",
   "id": "f6311c21b85adf90",
   "metadata": {
    "ExecuteTime": {
     "end_time": "2024-08-20T00:49:40.355087Z",
     "start_time": "2024-08-20T00:49:40.345885Z"
    }
   },
   "source": [
    "#这里使用10日均线\n",
    "period = 10\n",
    "#设置一个空列表，用来存储每10天的价格\n",
    "avg_10 = []\n",
    "#再设置一个空列表，用来存储每10天价格的均值\n",
    "avg_value = []\n",
    "#设置一个循环\n",
    "for price in zgpa['Adj Close']:\n",
    "    #把每天的价格传入到avg_10列表\n",
    "    avg_10.append(price)\n",
    "    #当列表中存储的数值多于10个时\n",
    "    if len(avg_10) > period:\n",
    "        #就把前面传入的价格数据删掉，确保列表中只有10天的数据\n",
    "        del avg_10[0]\n",
    "    #将10天数据的均值传入到avg_value列表中\n",
    "    avg_value.append(np.mean(avg_10))\n",
    "#把计算好的10日均价写到股票价格数据表中\n",
    "zgpa = zgpa.assign(avg_10 = pd.Series(avg_value, index = zgpa.index))\n",
    "#检查一下是否添加成功\n",
    "zgpa.head()\n",
    "    "
   ],
   "outputs": [
    {
     "data": {
      "text/plain": [
       "             Open   High    Low  Close   Adj Close    Volume      avg_10\n",
       "Date                                                                    \n",
       "2024-05-02  789.0  789.0  772.0  772.0  769.027649  40527228  769.027649\n",
       "2024-05-03  788.0  788.0  773.0  780.0  776.996887  29901556  773.012268\n",
       "2024-05-06  791.0  793.0  786.0  786.0  782.973755  32599878  776.332764\n",
       "2024-05-07  797.0  800.0  792.0  800.0  796.919861  33890214  781.479538\n",
       "2024-05-08  794.0  802.0  792.0  802.0  798.912170  21757193  784.966064"
      ],
      "text/html": [
       "<div>\n",
       "<style scoped>\n",
       "    .dataframe tbody tr th:only-of-type {\n",
       "        vertical-align: middle;\n",
       "    }\n",
       "\n",
       "    .dataframe tbody tr th {\n",
       "        vertical-align: top;\n",
       "    }\n",
       "\n",
       "    .dataframe thead th {\n",
       "        text-align: right;\n",
       "    }\n",
       "</style>\n",
       "<table border=\"1\" class=\"dataframe\">\n",
       "  <thead>\n",
       "    <tr style=\"text-align: right;\">\n",
       "      <th></th>\n",
       "      <th>Open</th>\n",
       "      <th>High</th>\n",
       "      <th>Low</th>\n",
       "      <th>Close</th>\n",
       "      <th>Adj Close</th>\n",
       "      <th>Volume</th>\n",
       "      <th>avg_10</th>\n",
       "    </tr>\n",
       "    <tr>\n",
       "      <th>Date</th>\n",
       "      <th></th>\n",
       "      <th></th>\n",
       "      <th></th>\n",
       "      <th></th>\n",
       "      <th></th>\n",
       "      <th></th>\n",
       "      <th></th>\n",
       "    </tr>\n",
       "  </thead>\n",
       "  <tbody>\n",
       "    <tr>\n",
       "      <th>2024-05-02</th>\n",
       "      <td>789.0</td>\n",
       "      <td>789.0</td>\n",
       "      <td>772.0</td>\n",
       "      <td>772.0</td>\n",
       "      <td>769.027649</td>\n",
       "      <td>40527228</td>\n",
       "      <td>769.027649</td>\n",
       "    </tr>\n",
       "    <tr>\n",
       "      <th>2024-05-03</th>\n",
       "      <td>788.0</td>\n",
       "      <td>788.0</td>\n",
       "      <td>773.0</td>\n",
       "      <td>780.0</td>\n",
       "      <td>776.996887</td>\n",
       "      <td>29901556</td>\n",
       "      <td>773.012268</td>\n",
       "    </tr>\n",
       "    <tr>\n",
       "      <th>2024-05-06</th>\n",
       "      <td>791.0</td>\n",
       "      <td>793.0</td>\n",
       "      <td>786.0</td>\n",
       "      <td>786.0</td>\n",
       "      <td>782.973755</td>\n",
       "      <td>32599878</td>\n",
       "      <td>776.332764</td>\n",
       "    </tr>\n",
       "    <tr>\n",
       "      <th>2024-05-07</th>\n",
       "      <td>797.0</td>\n",
       "      <td>800.0</td>\n",
       "      <td>792.0</td>\n",
       "      <td>800.0</td>\n",
       "      <td>796.919861</td>\n",
       "      <td>33890214</td>\n",
       "      <td>781.479538</td>\n",
       "    </tr>\n",
       "    <tr>\n",
       "      <th>2024-05-08</th>\n",
       "      <td>794.0</td>\n",
       "      <td>802.0</td>\n",
       "      <td>792.0</td>\n",
       "      <td>802.0</td>\n",
       "      <td>798.912170</td>\n",
       "      <td>21757193</td>\n",
       "      <td>784.966064</td>\n",
       "    </tr>\n",
       "  </tbody>\n",
       "</table>\n",
       "</div>"
      ]
     },
     "execution_count": 102,
     "metadata": {},
     "output_type": "execute_result"
    }
   ],
   "execution_count": 102
  },
  {
   "cell_type": "code",
   "id": "2d75819da5677004",
   "metadata": {
    "ExecuteTime": {
     "end_time": "2024-08-20T00:49:40.489735Z",
     "start_time": "2024-08-20T00:49:40.355803Z"
    }
   },
   "source": [
    "# 設定图像尺寸10*6\n",
    "plt.figure(figsize=(10,6))\n",
    "# 繪製股價變化\n",
    "plt.plot(zgpa['Adj Close'], lw =2, color='k', label = 'Stock Price')\n",
    "# 繪製10日均線\n",
    "plt.plot(zgpa['avg_10'],'--', lw = 2, color='r', label = '10-day Average')\n",
    "# 添加圖著跟网格\n",
    "plt.legend()\n",
    "plt.grid()\n",
    "# 將图像進行显示\n",
    "plt.show()"
   ],
   "outputs": [
    {
     "data": {
      "text/plain": [
       "<Figure size 1000x600 with 1 Axes>"
      ],
      "image/png": "[encoded data removed]"
     },
     "metadata": {},
     "output_type": "display_data"
    }
   ],
   "execution_count": 103
  },
  {
   "cell_type": "code",
   "id": "ab1d896ac1cb47d8",
   "metadata": {
    "ExecuteTime": {
     "end_time": "2024-08-20T00:49:40.498988Z",
     "start_time": "2024-08-20T00:49:40.491512Z"
    }
   },
   "source": [
    "# 新建一個數據表， 命名為strategy\n",
    "# 序號與原始數據保持一致\n",
    "strategy = pd.DataFrame(index=zgpa.index)\n",
    "# 添加一個signal字段，用來儲存交易信号\n",
    "strategy['signal'] = 0\n",
    "# 將5日均價保存到avg_5這個字段\n",
    "strategy['avg_5'] = zgpa['Adj Close'].rolling(window=5).mean()\n",
    "# 將10日均價保存到avg_10這個字段\n",
    "strategy['avg_10'] = zgpa['Adj Close'].rolling(window=10).mean()\n",
    "# 當5日均價大於10日均價標記為1， 反之為0\n",
    "strategy['signal']=np.where(strategy['avg_5'] > strategy['avg_10'],1,0)\n",
    "# 根據交易信号下單，當信号從0變成1時買入\n",
    "# 當信号從1變成0時賣出\n",
    "# 當信号不變時不下單\n",
    "strategy['order'] = strategy['signal'].diff()\n",
    "# 查看數據表後10行\n",
    "strategy.tail(10)   \n"
   ],
   "outputs": [
    {
     "data": {
      "text/plain": [
       "            signal  avg_5  avg_10  order\n",
       "Date                                    \n",
       "2024-07-31       0  944.2   959.3    0.0\n",
       "2024-08-01       0  940.4   954.8    0.0\n",
       "2024-08-02       0  936.2   948.1    0.0\n",
       "2024-08-05       0  910.4   935.7    0.0\n",
       "2024-08-06       0  898.4   925.8    0.0\n",
       "2024-08-07       0  895.6   919.9    0.0\n",
       "2024-08-08       0  882.8   911.6    0.0\n",
       "2024-08-09       0  889.0   912.6    0.0\n",
       "2024-08-12       1  914.0   912.2    1.0\n",
       "2024-08-13       1  926.2   912.3    0.0"
      ],
      "text/html": [
       "<div>\n",
       "<style scoped>\n",
       "    .dataframe tbody tr th:only-of-type {\n",
       "        vertical-align: middle;\n",
       "    }\n",
       "\n",
       "    .dataframe tbody tr th {\n",
       "        vertical-align: top;\n",
       "    }\n",
       "\n",
       "    .dataframe thead th {\n",
       "        text-align: right;\n",
       "    }\n",
       "</style>\n",
       "<table border=\"1\" class=\"dataframe\">\n",
       "  <thead>\n",
       "    <tr style=\"text-align: right;\">\n",
       "      <th></th>\n",
       "      <th>signal</th>\n",
       "      <th>avg_5</th>\n",
       "      <th>avg_10</th>\n",
       "      <th>order</th>\n",
       "    </tr>\n",
       "    <tr>\n",
       "      <th>Date</th>\n",
       "      <th></th>\n",
       "      <th></th>\n",
       "      <th></th>\n",
       "      <th></th>\n",
       "    </tr>\n",
       "  </thead>\n",
       "  <tbody>\n",
       "    <tr>\n",
       "      <th>2024-07-31</th>\n",
       "      <td>0</td>\n",
       "      <td>944.2</td>\n",
       "      <td>959.3</td>\n",
       "      <td>0.0</td>\n",
       "    </tr>\n",
       "    <tr>\n",
       "      <th>2024-08-01</th>\n",
       "      <td>0</td>\n",
       "      <td>940.4</td>\n",
       "      <td>954.8</td>\n",
       "      <td>0.0</td>\n",
       "    </tr>\n",
       "    <tr>\n",
       "      <th>2024-08-02</th>\n",
       "      <td>0</td>\n",
       "      <td>936.2</td>\n",
       "      <td>948.1</td>\n",
       "      <td>0.0</td>\n",
       "    </tr>\n",
       "    <tr>\n",
       "      <th>2024-08-05</th>\n",
       "      <td>0</td>\n",
       "      <td>910.4</td>\n",
       "      <td>935.7</td>\n",
       "      <td>0.0</td>\n",
       "    </tr>\n",
       "    <tr>\n",
       "      <th>2024-08-06</th>\n",
       "      <td>0</td>\n",
       "      <td>898.4</td>\n",
       "      <td>925.8</td>\n",
       "      <td>0.0</td>\n",
       "    </tr>\n",
       "    <tr>\n",
       "      <th>2024-08-07</th>\n",
       "      <td>0</td>\n",
       "      <td>895.6</td>\n",
       "      <td>919.9</td>\n",
       "      <td>0.0</td>\n",
       "    </tr>\n",
       "    <tr>\n",
       "      <th>2024-08-08</th>\n",
       "      <td>0</td>\n",
       "      <td>882.8</td>\n",
       "      <td>911.6</td>\n",
       "      <td>0.0</td>\n",
       "    </tr>\n",
       "    <tr>\n",
       "      <th>2024-08-09</th>\n",
       "      <td>0</td>\n",
       "      <td>889.0</td>\n",
       "      <td>912.6</td>\n",
       "      <td>0.0</td>\n",
       "    </tr>\n",
       "    <tr>\n",
       "      <th>2024-08-12</th>\n",
       "      <td>1</td>\n",
       "      <td>914.0</td>\n",
       "      <td>912.2</td>\n",
       "      <td>1.0</td>\n",
       "    </tr>\n",
       "    <tr>\n",
       "      <th>2024-08-13</th>\n",
       "      <td>1</td>\n",
       "      <td>926.2</td>\n",
       "      <td>912.3</td>\n",
       "      <td>0.0</td>\n",
       "    </tr>\n",
       "  </tbody>\n",
       "</table>\n",
       "</div>"
      ]
     },
     "execution_count": 104,
     "metadata": {},
     "output_type": "execute_result"
    }
   ],
   "execution_count": 104
  },
  {
   "cell_type": "code",
   "id": "dfdd7e7367cc542c",
   "metadata": {
    "ExecuteTime": {
     "end_time": "2024-08-20T00:49:40.635002Z",
     "start_time": "2024-08-20T00:49:40.499873Z"
    }
   },
   "source": [
    "# 創建尺寸10*5的畫布\n",
    "plt.figure(figsize=(10,5))\n",
    "# 使用实线繪製股價\n",
    "plt.plot(zgpa['Adj Close'], lw =2, color='k', label = 'Stock Price')\n",
    "# 使用虚线繪製5日均線\n",
    "plt.plot(strategy['avg_5'],'--', lw = 2, color='r', label = '5-day Average')\n",
    "# 使用-.風格繪製10日均線\n",
    "plt.plot(strategy['avg_10'],'-.', lw = 2, color='b', label = '10-day Average')\n",
    "# 將買入信号用正三角標示\n",
    "plt.scatter(strategy.loc[strategy.order==1].index,\n",
    "           zgpa['Adj Close'][strategy.order==1],\n",
    "           marker = '^', s=80,color='r',label='Buy')\n",
    "# 將賣出信号用倒三角標示\n",
    "plt.scatter(strategy.loc[strategy.order==-1].index,\n",
    "           zgpa['Adj Close'][strategy.order==-1],\n",
    "           marker = 'v', s=80,color='g',label='Sell')\n",
    "#添加图注\n",
    "plt.legend()\n",
    "plt.grid()\n",
    "plt.show()\n"
   ],
   "outputs": [
    {
     "data": {
      "text/plain": [
       "<Figure size 1000x500 with 1 Axes>"
      ],
      "image/png": "[encoded data removed]"
     },
     "metadata": {},
     "output_type": "display_data"
    }
   ],
   "execution_count": 105
  },
  {
   "cell_type": "code",
   "id": "2f904e00f980ac21",
   "metadata": {
    "ExecuteTime": {
     "end_time": "2024-08-20T00:49:40.643221Z",
     "start_time": "2024-08-20T00:49:40.636369Z"
    }
   },
   "source": [
    "# 初始化启动资金\n",
    "initial_cash = 2000000\n",
    "\n",
    "# 创建一个空的投资组合数据表，并将 index 设置为与 strategy 一致\n",
    "portfolio = pd.DataFrame(index=strategy.index)\n",
    "\n",
    "# 新建一个数据表 positions，序号保持和 strategy 数据表一致，用 0 将空值进行替换\n",
    "positions = pd.DataFrame(index=strategy.index).fillna(0)\n",
    "\n",
    "# 设置 stock 字段为交易信号的 1000 倍，因为 A 股买卖都是最低 1000 股\n",
    "positions['stock'] = strategy['signal'] * 1000\n",
    "\n",
    "# 创建投资组合数据表，用持仓的股票数量乘以股价得出持仓的股票市值\n",
    "portfolio['stock value'] = positions.multiply(zgpa['Adj Close'], axis=0)\n",
    "\n",
    "# 仓位的变化就是下单的数量\n",
    "order = positions.diff()\n",
    "\n",
    "# 用初始资金减去下单金额的总和就是剩余的资金\n",
    "portfolio['cash'] = initial_cash - order.multiply(zgpa['Adj Close'], axis=0).cumsum()\n",
    "\n",
    "# 剩余的资金 + 持仓股票市值即为总资产\n",
    "portfolio['total'] = portfolio['cash'] + portfolio['stock value']\n",
    "\n",
    "# 检查一下后 10 行\n",
    "portfolio.tail(10)"
   ],
   "outputs": [
    {
     "data": {
      "text/plain": [
       "            stock value          cash         total\n",
       "Date                                               \n",
       "2024-07-31          0.0  2.098454e+06  2.098454e+06\n",
       "2024-08-01          0.0  2.098454e+06  2.098454e+06\n",
       "2024-08-02          0.0  2.098454e+06  2.098454e+06\n",
       "2024-08-05          0.0  2.098454e+06  2.098454e+06\n",
       "2024-08-06          0.0  2.098454e+06  2.098454e+06\n",
       "2024-08-07          0.0  2.098454e+06  2.098454e+06\n",
       "2024-08-08          0.0  2.098454e+06  2.098454e+06\n",
       "2024-08-09          0.0  2.098454e+06  2.098454e+06\n",
       "2024-08-12     940000.0  1.158454e+06  2.098454e+06\n",
       "2024-08-13     941000.0  1.158454e+06  2.099454e+06"
      ],
      "text/html": [
       "<div>\n",
       "<style scoped>\n",
       "    .dataframe tbody tr th:only-of-type {\n",
       "        vertical-align: middle;\n",
       "    }\n",
       "\n",
       "    .dataframe tbody tr th {\n",
       "        vertical-align: top;\n",
       "    }\n",
       "\n",
       "    .dataframe thead th {\n",
       "        text-align: right;\n",
       "    }\n",
       "</style>\n",
       "<table border=\"1\" class=\"dataframe\">\n",
       "  <thead>\n",
       "    <tr style=\"text-align: right;\">\n",
       "      <th></th>\n",
       "      <th>stock value</th>\n",
       "      <th>cash</th>\n",
       "      <th>total</th>\n",
       "    </tr>\n",
       "    <tr>\n",
       "      <th>Date</th>\n",
       "      <th></th>\n",
       "      <th></th>\n",
       "      <th></th>\n",
       "    </tr>\n",
       "  </thead>\n",
       "  <tbody>\n",
       "    <tr>\n",
       "      <th>2024-07-31</th>\n",
       "      <td>0.0</td>\n",
       "      <td>2.098454e+06</td>\n",
       "      <td>2.098454e+06</td>\n",
       "    </tr>\n",
       "    <tr>\n",
       "      <th>2024-08-01</th>\n",
       "      <td>0.0</td>\n",
       "      <td>2.098454e+06</td>\n",
       "      <td>2.098454e+06</td>\n",
       "    </tr>\n",
       "    <tr>\n",
       "      <th>2024-08-02</th>\n",
       "      <td>0.0</td>\n",
       "      <td>2.098454e+06</td>\n",
       "      <td>2.098454e+06</td>\n",
       "    </tr>\n",
       "    <tr>\n",
       "      <th>2024-08-05</th>\n",
       "      <td>0.0</td>\n",
       "      <td>2.098454e+06</td>\n",
       "      <td>2.098454e+06</td>\n",
       "    </tr>\n",
       "    <tr>\n",
       "      <th>2024-08-06</th>\n",
       "      <td>0.0</td>\n",
       "      <td>2.098454e+06</td>\n",
       "      <td>2.098454e+06</td>\n",
       "    </tr>\n",
       "    <tr>\n",
       "      <th>2024-08-07</th>\n",
       "      <td>0.0</td>\n",
       "      <td>2.098454e+06</td>\n",
       "      <td>2.098454e+06</td>\n",
       "    </tr>\n",
       "    <tr>\n",
       "      <th>2024-08-08</th>\n",
       "      <td>0.0</td>\n",
       "      <td>2.098454e+06</td>\n",
       "      <td>2.098454e+06</td>\n",
       "    </tr>\n",
       "    <tr>\n",
       "      <th>2024-08-09</th>\n",
       "      <td>0.0</td>\n",
       "      <td>2.098454e+06</td>\n",
       "      <td>2.098454e+06</td>\n",
       "    </tr>\n",
       "    <tr>\n",
       "      <th>2024-08-12</th>\n",
       "      <td>940000.0</td>\n",
       "      <td>1.158454e+06</td>\n",
       "      <td>2.098454e+06</td>\n",
       "    </tr>\n",
       "    <tr>\n",
       "      <th>2024-08-13</th>\n",
       "      <td>941000.0</td>\n",
       "      <td>1.158454e+06</td>\n",
       "      <td>2.099454e+06</td>\n",
       "    </tr>\n",
       "  </tbody>\n",
       "</table>\n",
       "</div>"
      ]
     },
     "execution_count": 106,
     "metadata": {},
     "output_type": "execute_result"
    }
   ],
   "execution_count": 106
  },
  {
   "cell_type": "code",
   "id": "7c9fdab7edf950bc",
   "metadata": {
    "ExecuteTime": {
     "end_time": "2024-08-20T00:49:40.945716Z",
     "start_time": "2024-08-20T00:49:40.643771Z"
    }
   },
   "source": [
    "# 創建10*5的畫布\n",
    "plt.figure(figsize=(10,5))\n",
    "# 繪製總資產曲线\n",
    "plt.plot(portfolio['total'], lw =2, color='k', label = 'Total Portfolio Value')\n",
    "# 繪製股票持倉曲线\n",
    "plt.plot(portfolio['stock value'], lw =2, color='r', label = 'Stock Portfolio Value')\n",
    "# 添加圖注、网格、展示图像\n",
    "plt.legend()\n",
    "plt.grid()\n",
    "plt.show()\n"
   ],
   "outputs": [
    {
     "data": {
      "text/plain": [
       "<Figure size 1000x500 with 1 Axes>"
      ],
      "image/png": "[encoded data removed]"
     },
     "metadata": {},
     "output_type": "display_data"
    }
   ],
   "execution_count": 107
  },
  {
   "cell_type": "code",
   "id": "55b2585bf7cf9721",
   "metadata": {
    "ExecuteTime": {
     "end_time": "2024-08-20T00:49:40.951678Z",
     "start_time": "2024-08-20T00:49:40.946306Z"
    }
   },
   "source": [
    "#创建一个名为turtle的数据表，使用原始数据表的日期序号\n",
    "turtle = pd.DataFrame(index = zgpa.index)\n",
    "#设置唐奇安通道的上沿为前5天股价的最高点\n",
    "turtle['high'] = zgpa['Adj Close'].shift(1).rolling(5).max()\n",
    "#设置唐奇安通道的下沿为过去5天的最低点\n",
    "turtle['low'] = zgpa['Adj Close'].shift(1).rolling(5).min()\n",
    "#当股价突破上沿时，发出买入信号\n",
    "turtle['buy'] = zgpa['Adj Close'] > turtle['high']\n",
    "#当股价突破下沿时，发出卖出信号\n",
    "turtle['sell'] = zgpa['Adj Close'] < turtle['low']\n",
    "#检查信号创建情况\n",
    "turtle.tail()"
   ],
   "outputs": [
    {
     "data": {
      "text/plain": [
       "             high    low    buy   sell\n",
       "Date                                  \n",
       "2024-08-07  960.0  815.0  False  False\n",
       "2024-08-08  960.0  815.0  False  False\n",
       "2024-08-09  920.0  815.0   True  False\n",
       "2024-08-12  934.0  815.0   True  False\n",
       "2024-08-13  940.0  880.0   True  False"
      ],
      "text/html": [
       "<div>\n",
       "<style scoped>\n",
       "    .dataframe tbody tr th:only-of-type {\n",
       "        vertical-align: middle;\n",
       "    }\n",
       "\n",
       "    .dataframe tbody tr th {\n",
       "        vertical-align: top;\n",
       "    }\n",
       "\n",
       "    .dataframe thead th {\n",
       "        text-align: right;\n",
       "    }\n",
       "</style>\n",
       "<table border=\"1\" class=\"dataframe\">\n",
       "  <thead>\n",
       "    <tr style=\"text-align: right;\">\n",
       "      <th></th>\n",
       "      <th>high</th>\n",
       "      <th>low</th>\n",
       "      <th>buy</th>\n",
       "      <th>sell</th>\n",
       "    </tr>\n",
       "    <tr>\n",
       "      <th>Date</th>\n",
       "      <th></th>\n",
       "      <th></th>\n",
       "      <th></th>\n",
       "      <th></th>\n",
       "    </tr>\n",
       "  </thead>\n",
       "  <tbody>\n",
       "    <tr>\n",
       "      <th>2024-08-07</th>\n",
       "      <td>960.0</td>\n",
       "      <td>815.0</td>\n",
       "      <td>False</td>\n",
       "      <td>False</td>\n",
       "    </tr>\n",
       "    <tr>\n",
       "      <th>2024-08-08</th>\n",
       "      <td>960.0</td>\n",
       "      <td>815.0</td>\n",
       "      <td>False</td>\n",
       "      <td>False</td>\n",
       "    </tr>\n",
       "    <tr>\n",
       "      <th>2024-08-09</th>\n",
       "      <td>920.0</td>\n",
       "      <td>815.0</td>\n",
       "      <td>True</td>\n",
       "      <td>False</td>\n",
       "    </tr>\n",
       "    <tr>\n",
       "      <th>2024-08-12</th>\n",
       "      <td>934.0</td>\n",
       "      <td>815.0</td>\n",
       "      <td>True</td>\n",
       "      <td>False</td>\n",
       "    </tr>\n",
       "    <tr>\n",
       "      <th>2024-08-13</th>\n",
       "      <td>940.0</td>\n",
       "      <td>880.0</td>\n",
       "      <td>True</td>\n",
       "      <td>False</td>\n",
       "    </tr>\n",
       "  </tbody>\n",
       "</table>\n",
       "</div>"
      ]
     },
     "execution_count": 108,
     "metadata": {},
     "output_type": "execute_result"
    }
   ],
   "execution_count": 108
  },
  {
   "cell_type": "code",
   "id": "b1cbebd8aab3a2aa",
   "metadata": {
    "ExecuteTime": {
     "end_time": "2024-08-20T00:49:40.958018Z",
     "start_time": "2024-08-20T00:49:40.952257Z"
    }
   },
   "source": [
    "#初始的订单状态为0\n",
    "turtle['orders']=0\n",
    "#初始的仓位为0\n",
    "position = 0\n",
    "#设置循环，遍历turtle数据表\n",
    "for k in range(len(turtle)):\n",
    "    #当买入信号为True且仓位为0时下单买入1手\n",
    "    if turtle.buy[k] and position ==0:\n",
    "        #修改对应的orders值为1\n",
    "        turtle.orders.values[k] = 1\n",
    "        #仓位也增加1手\n",
    "        position = 1\n",
    "    #而当卖出信号为True且有持仓时买出1手\n",
    "    elif turtle.sell[k] and position > 0:\n",
    "        #orders的值修改为-1\n",
    "        turtle.orders.values[k] = -1\n",
    "        #仓位相应清零\n",
    "        position = 0   \n",
    "#检查是否成功\n",
    "turtle.tail(15)"
   ],
   "outputs": [
    {
     "name": "stderr",
     "output_type": "stream",
     "text": [
      "/var/folders/_z/wf028lv51rl4_zw8pxj4k3740000gn/T/ipykernel_87827/2324133629.py:8: FutureWarning: Series.__getitem__ treating keys as positions is deprecated. In a future version, integer keys will always be treated as labels (consistent with DataFrame behavior). To access a value by position, use `ser.iloc[pos]`\n",
      "  if turtle.buy[k] and position ==0:\n",
      "/var/folders/_z/wf028lv51rl4_zw8pxj4k3740000gn/T/ipykernel_87827/2324133629.py:14: FutureWarning: Series.__getitem__ treating keys as positions is deprecated. In a future version, integer keys will always be treated as labels (consistent with DataFrame behavior). To access a value by position, use `ser.iloc[pos]`\n",
      "  elif turtle.sell[k] and position > 0:\n"
     ]
    },
    {
     "data": {
      "text/plain": [
       "              high    low    buy   sell  orders\n",
       "Date                                           \n",
       "2024-07-24  1030.0  939.0  False  False       0\n",
       "2024-07-25  1005.0  939.0  False  False       0\n",
       "2024-07-26   979.0  939.0  False   True       0\n",
       "2024-07-29   979.0  924.0  False  False       0\n",
       "2024-07-30   979.0  924.0  False  False       0\n",
       "2024-07-31   979.0  924.0  False  False       0\n",
       "2024-08-01   979.0  924.0  False  False       0\n",
       "2024-08-02   960.0  924.0  False   True       0\n",
       "2024-08-05   960.0  903.0  False   True       0\n",
       "2024-08-06   960.0  815.0  False  False       0\n",
       "2024-08-07   960.0  815.0  False  False       0\n",
       "2024-08-08   960.0  815.0  False  False       0\n",
       "2024-08-09   920.0  815.0   True  False       1\n",
       "2024-08-12   934.0  815.0   True  False       0\n",
       "2024-08-13   940.0  880.0   True  False       0"
      ],
      "text/html": [
       "<div>\n",
       "<style scoped>\n",
       "    .dataframe tbody tr th:only-of-type {\n",
       "        vertical-align: middle;\n",
       "    }\n",
       "\n",
       "    .dataframe tbody tr th {\n",
       "        vertical-align: top;\n",
       "    }\n",
       "\n",
       "    .dataframe thead th {\n",
       "        text-align: right;\n",
       "    }\n",
       "</style>\n",
       "<table border=\"1\" class=\"dataframe\">\n",
       "  <thead>\n",
       "    <tr style=\"text-align: right;\">\n",
       "      <th></th>\n",
       "      <th>high</th>\n",
       "      <th>low</th>\n",
       "      <th>buy</th>\n",
       "      <th>sell</th>\n",
       "      <th>orders</th>\n",
       "    </tr>\n",
       "    <tr>\n",
       "      <th>Date</th>\n",
       "      <th></th>\n",
       "      <th></th>\n",
       "      <th></th>\n",
       "      <th></th>\n",
       "      <th></th>\n",
       "    </tr>\n",
       "  </thead>\n",
       "  <tbody>\n",
       "    <tr>\n",
       "      <th>2024-07-24</th>\n",
       "      <td>1030.0</td>\n",
       "      <td>939.0</td>\n",
       "      <td>False</td>\n",
       "      <td>False</td>\n",
       "      <td>0</td>\n",
       "    </tr>\n",
       "    <tr>\n",
       "      <th>2024-07-25</th>\n",
       "      <td>1005.0</td>\n",
       "      <td>939.0</td>\n",
       "      <td>False</td>\n",
       "      <td>False</td>\n",
       "      <td>0</td>\n",
       "    </tr>\n",
       "    <tr>\n",
       "      <th>2024-07-26</th>\n",
       "      <td>979.0</td>\n",
       "      <td>939.0</td>\n",
       "      <td>False</td>\n",
       "      <td>True</td>\n",
       "      <td>0</td>\n",
       "    </tr>\n",
       "    <tr>\n",
       "      <th>2024-07-29</th>\n",
       "      <td>979.0</td>\n",
       "      <td>924.0</td>\n",
       "      <td>False</td>\n",
       "      <td>False</td>\n",
       "      <td>0</td>\n",
       "    </tr>\n",
       "    <tr>\n",
       "      <th>2024-07-30</th>\n",
       "      <td>979.0</td>\n",
       "      <td>924.0</td>\n",
       "      <td>False</td>\n",
       "      <td>False</td>\n",
       "      <td>0</td>\n",
       "    </tr>\n",
       "    <tr>\n",
       "      <th>2024-07-31</th>\n",
       "      <td>979.0</td>\n",
       "      <td>924.0</td>\n",
       "      <td>False</td>\n",
       "      <td>False</td>\n",
       "      <td>0</td>\n",
       "    </tr>\n",
       "    <tr>\n",
       "      <th>2024-08-01</th>\n",
       "      <td>979.0</td>\n",
       "      <td>924.0</td>\n",
       "      <td>False</td>\n",
       "      <td>False</td>\n",
       "      <td>0</td>\n",
       "    </tr>\n",
       "    <tr>\n",
       "      <th>2024-08-02</th>\n",
       "      <td>960.0</td>\n",
       "      <td>924.0</td>\n",
       "      <td>False</td>\n",
       "      <td>True</td>\n",
       "      <td>0</td>\n",
       "    </tr>\n",
       "    <tr>\n",
       "      <th>2024-08-05</th>\n",
       "      <td>960.0</td>\n",
       "      <td>903.0</td>\n",
       "      <td>False</td>\n",
       "      <td>True</td>\n",
       "      <td>0</td>\n",
       "    </tr>\n",
       "    <tr>\n",
       "      <th>2024-08-06</th>\n",
       "      <td>960.0</td>\n",
       "      <td>815.0</td>\n",
       "      <td>False</td>\n",
       "      <td>False</td>\n",
       "      <td>0</td>\n",
       "    </tr>\n",
       "    <tr>\n",
       "      <th>2024-08-07</th>\n",
       "      <td>960.0</td>\n",
       "      <td>815.0</td>\n",
       "      <td>False</td>\n",
       "      <td>False</td>\n",
       "      <td>0</td>\n",
       "    </tr>\n",
       "    <tr>\n",
       "      <th>2024-08-08</th>\n",
       "      <td>960.0</td>\n",
       "      <td>815.0</td>\n",
       "      <td>False</td>\n",
       "      <td>False</td>\n",
       "      <td>0</td>\n",
       "    </tr>\n",
       "    <tr>\n",
       "      <th>2024-08-09</th>\n",
       "      <td>920.0</td>\n",
       "      <td>815.0</td>\n",
       "      <td>True</td>\n",
       "      <td>False</td>\n",
       "      <td>1</td>\n",
       "    </tr>\n",
       "    <tr>\n",
       "      <th>2024-08-12</th>\n",
       "      <td>934.0</td>\n",
       "      <td>815.0</td>\n",
       "      <td>True</td>\n",
       "      <td>False</td>\n",
       "      <td>0</td>\n",
       "    </tr>\n",
       "    <tr>\n",
       "      <th>2024-08-13</th>\n",
       "      <td>940.0</td>\n",
       "      <td>880.0</td>\n",
       "      <td>True</td>\n",
       "      <td>False</td>\n",
       "      <td>0</td>\n",
       "    </tr>\n",
       "  </tbody>\n",
       "</table>\n",
       "</div>"
      ]
     },
     "execution_count": 109,
     "metadata": {},
     "output_type": "execute_result"
    }
   ],
   "execution_count": 109
  },
  {
   "cell_type": "code",
   "id": "b9dec12af30073a6",
   "metadata": {
    "ExecuteTime": {
     "end_time": "2024-08-20T00:49:41.098322Z",
     "start_time": "2024-08-20T00:49:40.959957Z"
    }
   },
   "source": [
    "# 繪製一個10*5的畫布\n",
    "plt.figure(figsize=(10,5))\n",
    "# 繪製股票折線圖\n",
    "plt.plot(zgpa['Adj Close'], lw =2, color='k', label = 'Stock Price')\n",
    "# 繪製唐奇安通道上沿\n",
    "plt.plot(turtle['high'], lw =2, color='r', ls= '--', label = 'Upper Band')\n",
    "# 繪製唐奇安通道下沿\n",
    "plt.plot(turtle['low'], lw =2, color='b', ls= '--', label = 'Lower Band')\n",
    "# 標示買入訂單，用正三角表示\n",
    "plt.scatter(turtle.loc[turtle.orders==1].index,\n",
    "           zgpa['Adj Close'][turtle.orders==1],\n",
    "           marker = '^', s=80,color='r', label='Buy')\n",
    "# 標示賣出訂單，用倒三角表示\n",
    "plt.scatter(turtle.loc[turtle.orders==-1].index,\n",
    "           zgpa['Adj Close'][turtle.orders==-1],\n",
    "           marker = 'v', s=80,color='g', label='Sell')\n",
    "# 添加標注、網格及展示\n",
    "plt.legend()\n",
    "plt.grid()\n",
    "plt.show()\n",
    "\n"
   ],
   "outputs": [
    {
     "data": {
      "text/plain": [
       "<Figure size 1000x500 with 1 Axes>"
      ],
      "image/png": "[encoded data removed]"
     },
     "metadata": {},
     "output_type": "display_data"
    }
   ],
   "execution_count": 110
  },
  {
   "cell_type": "code",
   "id": "79ffd128",
   "metadata": {
    "ExecuteTime": {
     "end_time": "2024-08-20T00:49:41.223303Z",
     "start_time": "2024-08-20T00:49:41.098982Z"
    }
   },
   "source": [
    "# 再給小瓦兩百萬的啟動資金\n",
    "initial_cash = 2000000\n",
    "# 創建新的數據表，序號與turtle相同\n",
    "positions = pd.DataFrame(index=turtle.index).fillna(0)\n",
    "# 每次交易為一手，即1000股，倉位即買單及賣單相加合\n",
    "positions['stock'] = 1000*turtle['orders'].cumsum()\n",
    "# 創建投資组合數據表\n",
    "portfolio = positions.multiply(zgpa['Adj Close'], axis=0)\n",
    "# 持倉市值為持倉股票數乘與股價\n",
    "portfolio['holding_values'] = (positions.multiply(zgpa['Adj Close'], axis=0))\n",
    "# 計算倉位變化\n",
    "pos_diff = positions.diff()\n",
    "# 剩餘的資金是出始資金減去倉位變化產生的現金流累計加和\n",
    "portfolio['cash'] = initial_cash - pos_diff.multiply(zgpa['Adj Close'], axis=0).cumsum()\n",
    "# 總資產為股票市值加上剩餘現金\n",
    "portfolio['total'] = portfolio['holding_values'] + portfolio['cash']\n",
    "plt.figure(figsize=(10,5))\n",
    "plt.plot(portfolio['total'], lw =2, color='k', label = 'Total Portfolio Value')\n",
    "plt.plot(portfolio['holding_values'], lw =2, color='r', label ='Holding Value')\n",
    "plt.grid()\n",
    "plt.legend()\n",
    "plt.show()\n"
   ],
   "outputs": [
    {
     "data": {
      "text/plain": [
       "<Figure size 1000x500 with 1 Axes>"
      ],
      "image/png": "[encoded data removed]"
     },
     "metadata": {},
     "output_type": "display_data"
    }
   ],
   "execution_count": 111
  },
  {
   "metadata": {
    "ExecuteTime": {
     "end_time": "2024-08-20T00:49:41.229502Z",
     "start_time": "2024-08-20T00:49:41.224079Z"
    }
   },
   "cell_type": "code",
   "source": "portfolio.tail(30)",
   "id": "ef24aeb54eb2fde9",
   "outputs": [
    {
     "data": {
      "text/plain": [
       "                stock  holding_values          cash         total\n",
       "Date                                                             \n",
       "2024-07-03   979000.0        979000.0  1.147296e+06  2.126296e+06\n",
       "2024-07-04  1005000.0       1005000.0  1.147296e+06  2.152296e+06\n",
       "2024-07-05  1005000.0       1005000.0  1.147296e+06  2.152296e+06\n",
       "2024-07-08  1035000.0       1035000.0  1.147296e+06  2.182296e+06\n",
       "2024-07-09  1040000.0       1040000.0  1.147296e+06  2.187296e+06\n",
       "2024-07-10  1045000.0       1045000.0  1.147296e+06  2.192296e+06\n",
       "2024-07-11  1080000.0       1080000.0  1.147296e+06  2.227296e+06\n",
       "2024-07-12  1040000.0       1040000.0  1.147296e+06  2.187296e+06\n",
       "2024-07-15  1040000.0       1040000.0  1.147296e+06  2.187296e+06\n",
       "2024-07-16  1055000.0       1055000.0  1.147296e+06  2.202296e+06\n",
       "2024-07-17        0.0             0.0  2.177296e+06  2.177296e+06\n",
       "2024-07-18        0.0             0.0  2.177296e+06  2.177296e+06\n",
       "2024-07-19        0.0             0.0  2.177296e+06  2.177296e+06\n",
       "2024-07-22        0.0             0.0  2.177296e+06  2.177296e+06\n",
       "2024-07-23        0.0             0.0  2.177296e+06  2.177296e+06\n",
       "2024-07-24        0.0             0.0  2.177296e+06  2.177296e+06\n",
       "2024-07-25        0.0             0.0  2.177296e+06  2.177296e+06\n",
       "2024-07-26        0.0             0.0  2.177296e+06  2.177296e+06\n",
       "2024-07-29        0.0             0.0  2.177296e+06  2.177296e+06\n",
       "2024-07-30        0.0             0.0  2.177296e+06  2.177296e+06\n",
       "2024-07-31        0.0             0.0  2.177296e+06  2.177296e+06\n",
       "2024-08-01        0.0             0.0  2.177296e+06  2.177296e+06\n",
       "2024-08-02        0.0             0.0  2.177296e+06  2.177296e+06\n",
       "2024-08-05        0.0             0.0  2.177296e+06  2.177296e+06\n",
       "2024-08-06        0.0             0.0  2.177296e+06  2.177296e+06\n",
       "2024-08-07        0.0             0.0  2.177296e+06  2.177296e+06\n",
       "2024-08-08        0.0             0.0  2.177296e+06  2.177296e+06\n",
       "2024-08-09   934000.0        934000.0  1.243296e+06  2.177296e+06\n",
       "2024-08-12   940000.0        940000.0  1.243296e+06  2.183296e+06\n",
       "2024-08-13   941000.0        941000.0  1.243296e+06  2.184296e+06"
      ],
      "text/html": [
       "<div>\n",
       "<style scoped>\n",
       "    .dataframe tbody tr th:only-of-type {\n",
       "        vertical-align: middle;\n",
       "    }\n",
       "\n",
       "    .dataframe tbody tr th {\n",
       "        vertical-align: top;\n",
       "    }\n",
       "\n",
       "    .dataframe thead th {\n",
       "        text-align: right;\n",
       "    }\n",
       "</style>\n",
       "<table border=\"1\" class=\"dataframe\">\n",
       "  <thead>\n",
       "    <tr style=\"text-align: right;\">\n",
       "      <th></th>\n",
       "      <th>stock</th>\n",
       "      <th>holding_values</th>\n",
       "      <th>cash</th>\n",
       "      <th>total</th>\n",
       "    </tr>\n",
       "    <tr>\n",
       "      <th>Date</th>\n",
       "      <th></th>\n",
       "      <th></th>\n",
       "      <th></th>\n",
       "      <th></th>\n",
       "    </tr>\n",
       "  </thead>\n",
       "  <tbody>\n",
       "    <tr>\n",
       "      <th>2024-07-03</th>\n",
       "      <td>979000.0</td>\n",
       "      <td>979000.0</td>\n",
       "      <td>1.147296e+06</td>\n",
       "      <td>2.126296e+06</td>\n",
       "    </tr>\n",
       "    <tr>\n",
       "      <th>2024-07-04</th>\n",
       "      <td>1005000.0</td>\n",
       "      <td>1005000.0</td>\n",
       "      <td>1.147296e+06</td>\n",
       "      <td>2.152296e+06</td>\n",
       "    </tr>\n",
       "    <tr>\n",
       "      <th>2024-07-05</th>\n",
       "      <td>1005000.0</td>\n",
       "      <td>1005000.0</td>\n",
       "      <td>1.147296e+06</td>\n",
       "      <td>2.152296e+06</td>\n",
       "    </tr>\n",
       "    <tr>\n",
       "      <th>2024-07-08</th>\n",
       "      <td>1035000.0</td>\n",
       "      <td>1035000.0</td>\n",
       "      <td>1.147296e+06</td>\n",
       "      <td>2.182296e+06</td>\n",
       "    </tr>\n",
       "    <tr>\n",
       "      <th>2024-07-09</th>\n",
       "      <td>1040000.0</td>\n",
       "      <td>1040000.0</td>\n",
       "      <td>1.147296e+06</td>\n",
       "      <td>2.187296e+06</td>\n",
       "    </tr>\n",
       "    <tr>\n",
       "      <th>2024-07-10</th>\n",
       "      <td>1045000.0</td>\n",
       "      <td>1045000.0</td>\n",
       "      <td>1.147296e+06</td>\n",
       "      <td>2.192296e+06</td>\n",
       "    </tr>\n",
       "    <tr>\n",
       "      <th>2024-07-11</th>\n",
       "      <td>1080000.0</td>\n",
       "      <td>1080000.0</td>\n",
       "      <td>1.147296e+06</td>\n",
       "      <td>2.227296e+06</td>\n",
       "    </tr>\n",
       "    <tr>\n",
       "      <th>2024-07-12</th>\n",
       "      <td>1040000.0</td>\n",
       "      <td>1040000.0</td>\n",
       "      <td>1.147296e+06</td>\n",
       "      <td>2.187296e+06</td>\n",
       "    </tr>\n",
       "    <tr>\n",
       "      <th>2024-07-15</th>\n",
       "      <td>1040000.0</td>\n",
       "      <td>1040000.0</td>\n",
       "      <td>1.147296e+06</td>\n",
       "      <td>2.187296e+06</td>\n",
       "    </tr>\n",
       "    <tr>\n",
       "      <th>2024-07-16</th>\n",
       "      <td>1055000.0</td>\n",
       "      <td>1055000.0</td>\n",
       "      <td>1.147296e+06</td>\n",
       "      <td>2.202296e+06</td>\n",
       "    </tr>\n",
       "    <tr>\n",
       "      <th>2024-07-17</th>\n",
       "      <td>0.0</td>\n",
       "      <td>0.0</td>\n",
       "      <td>2.177296e+06</td>\n",
       "      <td>2.177296e+06</td>\n",
       "    </tr>\n",
       "    <tr>\n",
       "      <th>2024-07-18</th>\n",
       "      <td>0.0</td>\n",
       "      <td>0.0</td>\n",
       "      <td>2.177296e+06</td>\n",
       "      <td>2.177296e+06</td>\n",
       "    </tr>\n",
       "    <tr>\n",
       "      <th>2024-07-19</th>\n",
       "      <td>0.0</td>\n",
       "      <td>0.0</td>\n",
       "      <td>2.177296e+06</td>\n",
       "      <td>2.177296e+06</td>\n",
       "    </tr>\n",
       "    <tr>\n",
       "      <th>2024-07-22</th>\n",
       "      <td>0.0</td>\n",
       "      <td>0.0</td>\n",
       "      <td>2.177296e+06</td>\n",
       "      <td>2.177296e+06</td>\n",
       "    </tr>\n",
       "    <tr>\n",
       "      <th>2024-07-23</th>\n",
       "      <td>0.0</td>\n",
       "      <td>0.0</td>\n",
       "      <td>2.177296e+06</td>\n",
       "      <td>2.177296e+06</td>\n",
       "    </tr>\n",
       "    <tr>\n",
       "      <th>2024-07-24</th>\n",
       "      <td>0.0</td>\n",
       "      <td>0.0</td>\n",
       "      <td>2.177296e+06</td>\n",
       "      <td>2.177296e+06</td>\n",
       "    </tr>\n",
       "    <tr>\n",
       "      <th>2024-07-25</th>\n",
       "      <td>0.0</td>\n",
       "      <td>0.0</td>\n",
       "      <td>2.177296e+06</td>\n",
       "      <td>2.177296e+06</td>\n",
       "    </tr>\n",
       "    <tr>\n",
       "      <th>2024-07-26</th>\n",
       "      <td>0.0</td>\n",
       "      <td>0.0</td>\n",
       "      <td>2.177296e+06</td>\n",
       "      <td>2.177296e+06</td>\n",
       "    </tr>\n",
       "    <tr>\n",
       "      <th>2024-07-29</th>\n",
       "      <td>0.0</td>\n",
       "      <td>0.0</td>\n",
       "      <td>2.177296e+06</td>\n",
       "      <td>2.177296e+06</td>\n",
       "    </tr>\n",
       "    <tr>\n",
       "      <th>2024-07-30</th>\n",
       "      <td>0.0</td>\n",
       "      <td>0.0</td>\n",
       "      <td>2.177296e+06</td>\n",
       "      <td>2.177296e+06</td>\n",
       "    </tr>\n",
       "    <tr>\n",
       "      <th>2024-07-31</th>\n",
       "      <td>0.0</td>\n",
       "      <td>0.0</td>\n",
       "      <td>2.177296e+06</td>\n",
       "      <td>2.177296e+06</td>\n",
       "    </tr>\n",
       "    <tr>\n",
       "      <th>2024-08-01</th>\n",
       "      <td>0.0</td>\n",
       "      <td>0.0</td>\n",
       "      <td>2.177296e+06</td>\n",
       "      <td>2.177296e+06</td>\n",
       "    </tr>\n",
       "    <tr>\n",
       "      <th>2024-08-02</th>\n",
       "      <td>0.0</td>\n",
       "      <td>0.0</td>\n",
       "      <td>2.177296e+06</td>\n",
       "      <td>2.177296e+06</td>\n",
       "    </tr>\n",
       "    <tr>\n",
       "      <th>2024-08-05</th>\n",
       "      <td>0.0</td>\n",
       "      <td>0.0</td>\n",
       "      <td>2.177296e+06</td>\n",
       "      <td>2.177296e+06</td>\n",
       "    </tr>\n",
       "    <tr>\n",
       "      <th>2024-08-06</th>\n",
       "      <td>0.0</td>\n",
       "      <td>0.0</td>\n",
       "      <td>2.177296e+06</td>\n",
       "      <td>2.177296e+06</td>\n",
       "    </tr>\n",
       "    <tr>\n",
       "      <th>2024-08-07</th>\n",
       "      <td>0.0</td>\n",
       "      <td>0.0</td>\n",
       "      <td>2.177296e+06</td>\n",
       "      <td>2.177296e+06</td>\n",
       "    </tr>\n",
       "    <tr>\n",
       "      <th>2024-08-08</th>\n",
       "      <td>0.0</td>\n",
       "      <td>0.0</td>\n",
       "      <td>2.177296e+06</td>\n",
       "      <td>2.177296e+06</td>\n",
       "    </tr>\n",
       "    <tr>\n",
       "      <th>2024-08-09</th>\n",
       "      <td>934000.0</td>\n",
       "      <td>934000.0</td>\n",
       "      <td>1.243296e+06</td>\n",
       "      <td>2.177296e+06</td>\n",
       "    </tr>\n",
       "    <tr>\n",
       "      <th>2024-08-12</th>\n",
       "      <td>940000.0</td>\n",
       "      <td>940000.0</td>\n",
       "      <td>1.243296e+06</td>\n",
       "      <td>2.183296e+06</td>\n",
       "    </tr>\n",
       "    <tr>\n",
       "      <th>2024-08-13</th>\n",
       "      <td>941000.0</td>\n",
       "      <td>941000.0</td>\n",
       "      <td>1.243296e+06</td>\n",
       "      <td>2.184296e+06</td>\n",
       "    </tr>\n",
       "  </tbody>\n",
       "</table>\n",
       "</div>"
      ]
     },
     "execution_count": 112,
     "metadata": {},
     "output_type": "execute_result"
    }
   ],
   "execution_count": 112
  },
  {
   "metadata": {
    "ExecuteTime": {
     "end_time": "2024-08-20T00:49:41.231809Z",
     "start_time": "2024-08-20T00:49:41.230201Z"
    }
   },
   "cell_type": "code",
   "source": [
    "from sklearn.datasets import load_iris\n",
    "# 导入Knn模型\n",
    "from sklearn.neighbors import KNeighborsClassifier\n",
    "# 导入matplotlib和seaborn\n",
    "import matplotlib.pyplot as plt\n",
    "import seaborn as sns"
   ],
   "id": "342f386e6992335e",
   "outputs": [],
   "execution_count": 113
  },
  {
   "metadata": {
    "ExecuteTime": {
     "end_time": "2024-08-20T00:49:41.235138Z",
     "start_time": "2024-08-20T00:49:41.232322Z"
    }
   },
   "cell_type": "code",
   "source": [
    "# 加載iris數據集，賦予iris变量\n",
    "iris = load_iris()\n",
    "# 查看數據集鍵名\n",
    "print(iris.keys())\n"
   ],
   "id": "d92c21936786bbfd",
   "outputs": [
    {
     "name": "stdout",
     "output_type": "stream",
     "text": [
      "dict_keys(['data', 'target', 'frame', 'target_names', 'DESCR', 'feature_names', 'filename', 'data_module'])\n"
     ]
    }
   ],
   "execution_count": 114
  },
  {
   "metadata": {
    "ExecuteTime": {
     "end_time": "2024-08-20T00:49:41.237206Z",
     "start_time": "2024-08-20T00:49:41.235599Z"
    }
   },
   "cell_type": "code",
   "source": [
    "# 查看數據集特徵名稱\n",
    "print(iris['feature_names'])"
   ],
   "id": "c6d2992936f99768",
   "outputs": [
    {
     "name": "stdout",
     "output_type": "stream",
     "text": [
      "['sepal length (cm)', 'sepal width (cm)', 'petal length (cm)', 'petal width (cm)']\n"
     ]
    }
   ],
   "execution_count": 115
  },
  {
   "metadata": {
    "ExecuteTime": {
     "end_time": "2024-08-20T00:49:41.239547Z",
     "start_time": "2024-08-20T00:49:41.237699Z"
    }
   },
   "cell_type": "code",
   "source": [
    "# 查看樣本數據分類\n",
    "iris.target"
   ],
   "id": "d27064fa6c1c6a63",
   "outputs": [
    {
     "data": {
      "text/plain": [
       "array([0, 0, 0, 0, 0, 0, 0, 0, 0, 0, 0, 0, 0, 0, 0, 0, 0, 0, 0, 0, 0, 0,\n",
       "       0, 0, 0, 0, 0, 0, 0, 0, 0, 0, 0, 0, 0, 0, 0, 0, 0, 0, 0, 0, 0, 0,\n",
       "       0, 0, 0, 0, 0, 0, 1, 1, 1, 1, 1, 1, 1, 1, 1, 1, 1, 1, 1, 1, 1, 1,\n",
       "       1, 1, 1, 1, 1, 1, 1, 1, 1, 1, 1, 1, 1, 1, 1, 1, 1, 1, 1, 1, 1, 1,\n",
       "       1, 1, 1, 1, 1, 1, 1, 1, 1, 1, 1, 1, 2, 2, 2, 2, 2, 2, 2, 2, 2, 2,\n",
       "       2, 2, 2, 2, 2, 2, 2, 2, 2, 2, 2, 2, 2, 2, 2, 2, 2, 2, 2, 2, 2, 2,\n",
       "       2, 2, 2, 2, 2, 2, 2, 2, 2, 2, 2, 2, 2, 2, 2, 2, 2, 2])"
      ]
     },
     "execution_count": 116,
     "metadata": {},
     "output_type": "execute_result"
    }
   ],
   "execution_count": 116
  },
  {
   "metadata": {
    "ExecuteTime": {
     "end_time": "2024-08-20T00:49:41.241663Z",
     "start_time": "2024-08-20T00:49:41.240015Z"
    }
   },
   "cell_type": "code",
   "source": [
    "# 將樣本特徵分別赋值給X跟y\n",
    "X = iris.data\n",
    "y = iris.target\n",
    "X.shape"
   ],
   "id": "26404a50bae6c398",
   "outputs": [
    {
     "data": {
      "text/plain": [
       "(150, 4)"
      ]
     },
     "execution_count": 117,
     "metadata": {},
     "output_type": "execute_result"
    }
   ],
   "execution_count": 117
  },
  {
   "metadata": {
    "ExecuteTime": {
     "end_time": "2024-08-20T00:49:41.245274Z",
     "start_time": "2024-08-20T00:49:41.242055Z"
    }
   },
   "cell_type": "code",
   "source": [
    "# 導入數據集拆分工具\n",
    "from sklearn.model_selection import train_test_split\n",
    "# 將X，y拆分為訓練集及驗證集\n",
    "X_train, X_test, y_train, y_test = train_test_split(X,y)\n",
    "# 查看拆分情況\n",
    "X_train.shape, X_test.shape, y_train.shape, y_test.shape\n"
   ],
   "id": "d5b91e221cae669",
   "outputs": [
    {
     "data": {
      "text/plain": [
       "((112, 4), (38, 4), (112,), (38,))"
      ]
     },
     "execution_count": 118,
     "metadata": {},
     "output_type": "execute_result"
    }
   ],
   "execution_count": 118
  },
  {
   "metadata": {
    "ExecuteTime": {
     "end_time": "2024-08-20T00:49:41.255164Z",
     "start_time": "2024-08-20T00:49:41.245810Z"
    }
   },
   "cell_type": "code",
   "source": [
    "# 創建KNN分类器，參數保持默认\n",
    "knn_clf = KNeighborsClassifier()\n",
    "# 使用訓練集拟合模型\n",
    "knn_clf.fit(X_train, y_train)\n",
    "# 查看模型在訓練集跟驗證集中的準確率\n",
    "knn_clf.score(X_train, y_train), knn_clf.score(X_test, y_test)\n",
    "print('訓練集準確率：%.2F'%knn_clf.score(X_train, y_train))\n",
    "print('驗證集準確率：%.2F'%knn_clf.score(X_test, y_test))\n"
   ],
   "id": "19f2abb7b951419e",
   "outputs": [
    {
     "name": "stdout",
     "output_type": "stream",
     "text": [
      "訓練集準確率：0.98\n",
      "驗證集準確率：0.97\n"
     ]
    }
   ],
   "execution_count": 119
  },
  {
   "metadata": {
    "ExecuteTime": {
     "end_time": "2024-08-20T00:49:41.309154Z",
     "start_time": "2024-08-20T00:49:41.255708Z"
    }
   },
   "cell_type": "code",
   "source": [
    "# 導入網格搜索\n",
    "from sklearn.model_selection import GridSearchCV\n",
    "# 定義一個從1-10的n_neighbors\n",
    "n_neighbors = tuple(range(1,11,1))\n",
    "# 創建網格搜索實例，estimator 用KNN分類器\n",
    "# 把定義的n_neighbors傳入給param_grid參數\n",
    "# CV參數指交叉驗證次數為10\n",
    "CV = GridSearchCV(knn_clf, param_grid={'n_neighbors':n_neighbors}, cv=5)\n",
    "# 使用網格搜索拟合數據集\n",
    "CV.fit(X,y)\n",
    "# 查看最優參數\n",
    "CV.best_params_\n"
   ],
   "id": "f3adf874ff2395e",
   "outputs": [
    {
     "data": {
      "text/plain": [
       "{'n_neighbors': 6}"
      ]
     },
     "execution_count": 120,
     "metadata": {},
     "output_type": "execute_result"
    }
   ],
   "execution_count": 120
  },
  {
   "metadata": {
    "ExecuteTime": {
     "end_time": "2024-08-20T00:49:41.319560Z",
     "start_time": "2024-08-20T00:49:41.309701Z"
    }
   },
   "cell_type": "code",
   "source": [
    "# 創建KNN分类器， n_neighbors設為6\n",
    "knn_clf = KNeighborsClassifier(n_neighbors=9)\n",
    "# 使用訓練集拟合模型\n",
    "knn_clf.fit(X_train, y_train)\n",
    "# 查看模型在訓練集跟驗證集中的準確率\n",
    "knn_clf.score(X_train, y_train), knn_clf.score(X_test, y_test)\n",
    "print('訓練集準確率：%.2F'%knn_clf.score(X_train, y_train))\n",
    "print('驗證集準確率：%.2F'%knn_clf.score(X_test, y_test))\n"
   ],
   "id": "4ebdb18286e0a952",
   "outputs": [
    {
     "name": "stdout",
     "output_type": "stream",
     "text": [
      "訓練集準確率：0.98\n",
      "驗證集準確率：0.92\n"
     ]
    }
   ],
   "execution_count": 121
  },
  {
   "metadata": {
    "ExecuteTime": {
     "end_time": "2024-08-20T00:49:41.328018Z",
     "start_time": "2024-08-20T00:49:41.320219Z"
    }
   },
   "cell_type": "code",
   "source": [
    "from sklearn.datasets import fetch_california_housing\n",
    "california = fetch_california_housing()\n",
    "california.keys()\n"
   ],
   "id": "6c41282d13ede694",
   "outputs": [
    {
     "data": {
      "text/plain": [
       "dict_keys(['data', 'target', 'frame', 'target_names', 'feature_names', 'DESCR'])"
      ]
     },
     "execution_count": 122,
     "metadata": {},
     "output_type": "execute_result"
    }
   ],
   "execution_count": 122
  },
  {
   "metadata": {
    "ExecuteTime": {
     "end_time": "2024-08-20T00:49:41.330865Z",
     "start_time": "2024-08-20T00:49:41.328675Z"
    }
   },
   "cell_type": "code",
   "source": "california.feature_names",
   "id": "4ab4e5ba3455582a",
   "outputs": [
    {
     "data": {
      "text/plain": [
       "['MedInc',\n",
       " 'HouseAge',\n",
       " 'AveRooms',\n",
       " 'AveBedrms',\n",
       " 'Population',\n",
       " 'AveOccup',\n",
       " 'Latitude',\n",
       " 'Longitude']"
      ]
     },
     "execution_count": 123,
     "metadata": {},
     "output_type": "execute_result"
    }
   ],
   "execution_count": 123
  },
  {
   "metadata": {
    "ExecuteTime": {
     "end_time": "2024-08-20T00:49:41.333792Z",
     "start_time": "2024-08-20T00:49:41.331644Z"
    }
   },
   "cell_type": "code",
   "source": "california.target[:10]",
   "id": "5e8e54177e2a40ad",
   "outputs": [
    {
     "data": {
      "text/plain": [
       "array([4.526, 3.585, 3.521, 3.413, 3.422, 2.697, 2.992, 2.414, 2.267,\n",
       "       2.611])"
      ]
     },
     "execution_count": 124,
     "metadata": {},
     "output_type": "execute_result"
    }
   ],
   "execution_count": 124
  },
  {
   "metadata": {
    "ExecuteTime": {
     "end_time": "2024-08-20T00:49:41.337070Z",
     "start_time": "2024-08-20T00:49:41.334315Z"
    }
   },
   "cell_type": "code",
   "source": [
    "# 將樣本特徵及售價赋值給X,y\n",
    "X = california.data\n",
    "y = california.target\n",
    "# 使用train_test_split拆分訓練集跟驗證集\n",
    "X_train, X_test, y_train, y_test = train_test_split(X,y)\n",
    "# 查看拆分結果\n",
    "X_train.shape, X_test.shape, y_train.shape, y_test.shape\n"
   ],
   "id": "f88d2099c2c92396",
   "outputs": [
    {
     "data": {
      "text/plain": [
       "((15480, 8), (5160, 8), (15480,), (5160,))"
      ]
     },
     "execution_count": 125,
     "metadata": {},
     "output_type": "execute_result"
    }
   ],
   "execution_count": 125
  },
  {
   "metadata": {
    "ExecuteTime": {
     "end_time": "2024-08-20T00:49:41.381061Z",
     "start_time": "2024-08-20T00:49:41.337534Z"
    }
   },
   "cell_type": "code",
   "source": [
    "# 導入KNN回歸算法\n",
    "from sklearn.neighbors import KNeighborsRegressor\n",
    "# 創建一個實例，參數保持默认设置\n",
    "knn_reg = KNeighborsRegressor()\n",
    "# 拟合訓練集數據\n",
    "knn_reg.fit(X_train, y_train)\n",
    "# 查看模型在訓練集跟驗證集中的準確率\n",
    "print('訓練集準確率： %.2f'%knn_reg.score(X_train, y_train))\n",
    "print('測試集準確率： %.2f'%knn_reg.score(X_test, y_test))\n"
   ],
   "id": "5b56998637a914f1",
   "outputs": [
    {
     "name": "stdout",
     "output_type": "stream",
     "text": [
      "訓練集準確率： 0.45\n",
      "測試集準確率： 0.16\n"
     ]
    }
   ],
   "execution_count": 126
  },
  {
   "metadata": {
    "ExecuteTime": {
     "end_time": "2024-08-20T00:49:42.000357Z",
     "start_time": "2024-08-20T00:49:41.381669Z"
    }
   },
   "cell_type": "code",
   "source": [
    "# n_neighbors從1-100遍歷\n",
    "n_neighbors = tuple(range(1,11,1))\n",
    "# 創建網格搜索實例，estimator 用KNN分類器\n",
    "# 把定義的n_neighbors傳入給param_grid參數\n",
    "# CV參數指交叉驗證次數為10\n",
    "cv_reg = GridSearchCV(estimator=KNeighborsRegressor(), param_grid={'n_neighbors':n_neighbors}, cv=5)\n",
    "# 使用網格搜索拟合數據集\n",
    "cv_reg.fit(X,y)\n",
    "# 返回最佳參數\n",
    "cv_reg.best_params_\n",
    "\n"
   ],
   "id": "bea5be728c5d75b6",
   "outputs": [
    {
     "data": {
      "text/plain": [
       "{'n_neighbors': 10}"
      ]
     },
     "execution_count": 127,
     "metadata": {},
     "output_type": "execute_result"
    }
   ],
   "execution_count": 127
  },
  {
   "metadata": {
    "ExecuteTime": {
     "end_time": "2024-08-20T00:49:42.005440Z",
     "start_time": "2024-08-20T00:49:42.003487Z"
    }
   },
   "cell_type": "code",
   "source": [
    "# 查看最佳參數對應模型R2\n",
    "cv_reg.best_score_"
   ],
   "id": "4bdc1b1ba69db76b",
   "outputs": [
    {
     "data": {
      "text/plain": [
       "0.03480342649956771"
      ]
     },
     "execution_count": 128,
     "metadata": {},
     "output_type": "execute_result"
    }
   ],
   "execution_count": 128
  },
  {
   "metadata": {
    "ExecuteTime": {
     "end_time": "2024-08-20T00:49:42.009169Z",
     "start_time": "2024-08-20T00:49:42.005954Z"
    }
   },
   "cell_type": "code",
   "source": [
    "import yfinance as yf\n",
    "import pandas as pd\n",
    "\n",
    "def load_stock(start_date, end_date, output_file):\n",
    "    # 首先讓程式嘗試讀取已下載並保存的文件\n",
    "    try:\n",
    "        df = pd.read_pickle(f'/Users/johnson/Library/CloudStorage/OneDrive-個人/Documents/investment/stock/{output_file}')\n",
    "        # 如果文件已存在，則輸出載入股票數據完畢\n",
    "        print('載入股票文件完畢')\n",
    "    # 如果沒有找到文件，則重新下載文件\n",
    "    except FileNotFoundError:\n",
    "        print('文件不存在，重新下載中')\n",
    "        # 指定下載0056.TW，下載源為Yahoo\n",
    "        df = yf.download('0056.TW', start=start_date, end=end_date)\n",
    "        # 下載後保存成pickle文件\n",
    "        df.to_pickle(f'/Users/johnson/Library/CloudStorage/OneDrive-個人/Documents/investment/stock/{output_file}')\n",
    "        # 通知下載完成\n",
    "        print('下載完成')\n",
    "    return df\n",
    "\n",
    "# 獲取交易數據\n",
    "# 獲取3年數據\n",
    "# 保存00929的pickle文件\n",
    "zgpa = load_stock(start_date='2021-08-19', end_date='2024-08-19', output_file='00929.pkl')"
   ],
   "id": "44626cf81e90de75",
   "outputs": [
    {
     "name": "stdout",
     "output_type": "stream",
     "text": [
      "載入股票文件完畢\n"
     ]
    }
   ],
   "execution_count": 129
  },
  {
   "metadata": {
    "ExecuteTime": {
     "end_time": "2024-08-20T00:49:42.013145Z",
     "start_time": "2024-08-20T00:49:42.009636Z"
    }
   },
   "cell_type": "code",
   "source": "zgpa.head()",
   "id": "6849ef617f8d1729",
   "outputs": [
    {
     "data": {
      "text/plain": [
       "                 Open       High        Low      Close  Adj Close    Volume\n",
       "Date                                                                       \n",
       "2021-08-19  32.880001  32.880001  32.290001  32.320000  24.656717  44646608\n",
       "2021-08-20  32.400002  32.490002  32.000000  32.259998  24.610943  24869457\n",
       "2021-08-23  32.520000  32.900002  32.520000  32.880001  25.083935  16402007\n",
       "2021-08-24  33.009998  33.080002  32.660000  32.799999  25.022905  20358402\n",
       "2021-08-25  32.950001  33.000000  32.799999  33.000000  25.175484  10040196"
      ],
      "text/html": [
       "<div>\n",
       "<style scoped>\n",
       "    .dataframe tbody tr th:only-of-type {\n",
       "        vertical-align: middle;\n",
       "    }\n",
       "\n",
       "    .dataframe tbody tr th {\n",
       "        vertical-align: top;\n",
       "    }\n",
       "\n",
       "    .dataframe thead th {\n",
       "        text-align: right;\n",
       "    }\n",
       "</style>\n",
       "<table border=\"1\" class=\"dataframe\">\n",
       "  <thead>\n",
       "    <tr style=\"text-align: right;\">\n",
       "      <th></th>\n",
       "      <th>Open</th>\n",
       "      <th>High</th>\n",
       "      <th>Low</th>\n",
       "      <th>Close</th>\n",
       "      <th>Adj Close</th>\n",
       "      <th>Volume</th>\n",
       "    </tr>\n",
       "    <tr>\n",
       "      <th>Date</th>\n",
       "      <th></th>\n",
       "      <th></th>\n",
       "      <th></th>\n",
       "      <th></th>\n",
       "      <th></th>\n",
       "      <th></th>\n",
       "    </tr>\n",
       "  </thead>\n",
       "  <tbody>\n",
       "    <tr>\n",
       "      <th>2021-08-19</th>\n",
       "      <td>32.880001</td>\n",
       "      <td>32.880001</td>\n",
       "      <td>32.290001</td>\n",
       "      <td>32.320000</td>\n",
       "      <td>24.656717</td>\n",
       "      <td>44646608</td>\n",
       "    </tr>\n",
       "    <tr>\n",
       "      <th>2021-08-20</th>\n",
       "      <td>32.400002</td>\n",
       "      <td>32.490002</td>\n",
       "      <td>32.000000</td>\n",
       "      <td>32.259998</td>\n",
       "      <td>24.610943</td>\n",
       "      <td>24869457</td>\n",
       "    </tr>\n",
       "    <tr>\n",
       "      <th>2021-08-23</th>\n",
       "      <td>32.520000</td>\n",
       "      <td>32.900002</td>\n",
       "      <td>32.520000</td>\n",
       "      <td>32.880001</td>\n",
       "      <td>25.083935</td>\n",
       "      <td>16402007</td>\n",
       "    </tr>\n",
       "    <tr>\n",
       "      <th>2021-08-24</th>\n",
       "      <td>33.009998</td>\n",
       "      <td>33.080002</td>\n",
       "      <td>32.660000</td>\n",
       "      <td>32.799999</td>\n",
       "      <td>25.022905</td>\n",
       "      <td>20358402</td>\n",
       "    </tr>\n",
       "    <tr>\n",
       "      <th>2021-08-25</th>\n",
       "      <td>32.950001</td>\n",
       "      <td>33.000000</td>\n",
       "      <td>32.799999</td>\n",
       "      <td>33.000000</td>\n",
       "      <td>25.175484</td>\n",
       "      <td>10040196</td>\n",
       "    </tr>\n",
       "  </tbody>\n",
       "</table>\n",
       "</div>"
      ]
     },
     "execution_count": 130,
     "metadata": {},
     "output_type": "execute_result"
    }
   ],
   "execution_count": 130
  },
  {
   "metadata": {
    "ExecuteTime": {
     "end_time": "2024-08-20T00:52:20.474947Z",
     "start_time": "2024-08-20T00:52:20.472330Z"
    }
   },
   "cell_type": "code",
   "source": [
    "#下面我们来定义一个用于分类的函数，给数据表增加三个字段\n",
    "#首先是开盘价减收盘价，命名为‘Open-Close’\n",
    "#其次是最高价减最低价，命名为‘High-Low’\n",
    "def classification_tc(df):\n",
    "    df['Open-Close'] = df['Open'] - df['Close']\n",
    "    df['High-Low'] = df['High'] - df['Low']\n",
    "    #在添加一个target字段，如果次日收盘价高于当日收盘价，则标记为1，反之为-1\n",
    "    df['target'] = np.where(df['Close'].shift(-1)>df['Close'], 1, -1)\n",
    "    #去掉有空值的行\n",
    "    df = df.dropna()\n",
    "    #将‘Open-Close’和‘High-Low’作为数据集的特征\n",
    "    X = df[['Open-Close', 'High-Low']]\n",
    "    #将target赋值给y\n",
    "    y = df['target']\n",
    "    #将处理好的数据表以及X与y进行返回\n",
    "    return(df,X,y)\n"
   ],
   "id": "987b5f267d7e58c3",
   "outputs": [],
   "execution_count": 137
  },
  {
   "metadata": {
    "ExecuteTime": {
     "end_time": "2024-08-20T00:52:20.497692Z",
     "start_time": "2024-08-20T00:52:20.495380Z"
    }
   },
   "cell_type": "code",
   "source": [
    "#下面定义一个用于回归的函数\n",
    "#特征的添加和分类函数类似\n",
    "#只不过target字段改为次日收盘价减去当日收盘价\n",
    "def regression_tc(df):\n",
    "    df['Open-Close'] = df['Open'] - df['Close']\n",
    "    df['High-Low'] = df['High'] - df['Low']\n",
    "    df['target'] = df['Close'].shift(-1) - df['Close']\n",
    "    df = df.dropna()\n",
    "    X = df[['Open-Close', 'High-Low']]\n",
    "    y = df['target']\n",
    "    #将处理好的数据表以及X与y进行返回\n",
    "    return(df,X,y)\n"
   ],
   "id": "79de4f1497778293",
   "outputs": [],
   "execution_count": 138
  },
  {
   "metadata": {
    "ExecuteTime": {
     "end_time": "2024-08-20T00:52:20.517094Z",
     "start_time": "2024-08-20T00:52:20.509397Z"
    }
   },
   "cell_type": "code",
   "source": [
    "#使用classification_tc函数生成数据集的特征与目标\n",
    "df, X, y = classification_tc(zgpa)\n",
    "#将数据集拆分为训练集与验证集\n",
    "X_train, X_test, y_train, y_test =\\\n",
    "train_test_split(X, y, shuffle=False,train_size=0.8)\n",
    "df.head()"
   ],
   "id": "81a6135e815528b1",
   "outputs": [
    {
     "data": {
      "text/plain": [
       "                 Open       High        Low      Close  Adj Close    Volume  \\\n",
       "Date                                                                          \n",
       "2021-08-19  32.880001  32.880001  32.290001  32.320000  24.656717  44646608   \n",
       "2021-08-20  32.400002  32.490002  32.000000  32.259998  24.610943  24869457   \n",
       "2021-08-23  32.520000  32.900002  32.520000  32.880001  25.083935  16402007   \n",
       "2021-08-24  33.009998  33.080002  32.660000  32.799999  25.022905  20358402   \n",
       "2021-08-25  32.950001  33.000000  32.799999  33.000000  25.175484  10040196   \n",
       "\n",
       "            Open-Close  High-Low  target  \n",
       "Date                                      \n",
       "2021-08-19    0.560001  0.590000      -1  \n",
       "2021-08-20    0.140003  0.490002       1  \n",
       "2021-08-23   -0.360001  0.380001      -1  \n",
       "2021-08-24    0.209999  0.420002       1  \n",
       "2021-08-25   -0.049999  0.200001      -1  "
      ],
      "text/html": [
       "<div>\n",
       "<style scoped>\n",
       "    .dataframe tbody tr th:only-of-type {\n",
       "        vertical-align: middle;\n",
       "    }\n",
       "\n",
       "    .dataframe tbody tr th {\n",
       "        vertical-align: top;\n",
       "    }\n",
       "\n",
       "    .dataframe thead th {\n",
       "        text-align: right;\n",
       "    }\n",
       "</style>\n",
       "<table border=\"1\" class=\"dataframe\">\n",
       "  <thead>\n",
       "    <tr style=\"text-align: right;\">\n",
       "      <th></th>\n",
       "      <th>Open</th>\n",
       "      <th>High</th>\n",
       "      <th>Low</th>\n",
       "      <th>Close</th>\n",
       "      <th>Adj Close</th>\n",
       "      <th>Volume</th>\n",
       "      <th>Open-Close</th>\n",
       "      <th>High-Low</th>\n",
       "      <th>target</th>\n",
       "    </tr>\n",
       "    <tr>\n",
       "      <th>Date</th>\n",
       "      <th></th>\n",
       "      <th></th>\n",
       "      <th></th>\n",
       "      <th></th>\n",
       "      <th></th>\n",
       "      <th></th>\n",
       "      <th></th>\n",
       "      <th></th>\n",
       "      <th></th>\n",
       "    </tr>\n",
       "  </thead>\n",
       "  <tbody>\n",
       "    <tr>\n",
       "      <th>2021-08-19</th>\n",
       "      <td>32.880001</td>\n",
       "      <td>32.880001</td>\n",
       "      <td>32.290001</td>\n",
       "      <td>32.320000</td>\n",
       "      <td>24.656717</td>\n",
       "      <td>44646608</td>\n",
       "      <td>0.560001</td>\n",
       "      <td>0.590000</td>\n",
       "      <td>-1</td>\n",
       "    </tr>\n",
       "    <tr>\n",
       "      <th>2021-08-20</th>\n",
       "      <td>32.400002</td>\n",
       "      <td>32.490002</td>\n",
       "      <td>32.000000</td>\n",
       "      <td>32.259998</td>\n",
       "      <td>24.610943</td>\n",
       "      <td>24869457</td>\n",
       "      <td>0.140003</td>\n",
       "      <td>0.490002</td>\n",
       "      <td>1</td>\n",
       "    </tr>\n",
       "    <tr>\n",
       "      <th>2021-08-23</th>\n",
       "      <td>32.520000</td>\n",
       "      <td>32.900002</td>\n",
       "      <td>32.520000</td>\n",
       "      <td>32.880001</td>\n",
       "      <td>25.083935</td>\n",
       "      <td>16402007</td>\n",
       "      <td>-0.360001</td>\n",
       "      <td>0.380001</td>\n",
       "      <td>-1</td>\n",
       "    </tr>\n",
       "    <tr>\n",
       "      <th>2021-08-24</th>\n",
       "      <td>33.009998</td>\n",
       "      <td>33.080002</td>\n",
       "      <td>32.660000</td>\n",
       "      <td>32.799999</td>\n",
       "      <td>25.022905</td>\n",
       "      <td>20358402</td>\n",
       "      <td>0.209999</td>\n",
       "      <td>0.420002</td>\n",
       "      <td>1</td>\n",
       "    </tr>\n",
       "    <tr>\n",
       "      <th>2021-08-25</th>\n",
       "      <td>32.950001</td>\n",
       "      <td>33.000000</td>\n",
       "      <td>32.799999</td>\n",
       "      <td>33.000000</td>\n",
       "      <td>25.175484</td>\n",
       "      <td>10040196</td>\n",
       "      <td>-0.049999</td>\n",
       "      <td>0.200001</td>\n",
       "      <td>-1</td>\n",
       "    </tr>\n",
       "  </tbody>\n",
       "</table>\n",
       "</div>"
      ]
     },
     "execution_count": 139,
     "metadata": {},
     "output_type": "execute_result"
    }
   ],
   "execution_count": 139
  },
  {
   "metadata": {
    "ExecuteTime": {
     "end_time": "2024-08-20T00:52:39.252326Z",
     "start_time": "2024-08-20T00:52:39.229212Z"
    }
   },
   "cell_type": "code",
   "source": [
    "#创建一个knn实例，n_neighbors取95\n",
    "knn_clf = KNeighborsClassifier(n_neighbors=95)\n",
    "#使用knn拟合训练集\n",
    "knn_clf.fit(X_train, y_train)\n",
    "#打印模型在训练集中的准确率\n",
    "print(knn_clf.score(X_train, y_train))\n",
    "#打印模型在验证集中的准确率\n",
    "print(knn_clf.score(X_test, y_test))"
   ],
   "id": "408a9af82d94fcb9",
   "outputs": [
    {
     "name": "stdout",
     "output_type": "stream",
     "text": [
      "0.5171232876712328\n",
      "0.5342465753424658\n"
     ]
    }
   ],
   "execution_count": 145
  },
  {
   "metadata": {
    "ExecuteTime": {
     "end_time": "2024-08-20T00:56:14.369755Z",
     "start_time": "2024-08-20T00:56:14.348885Z"
    }
   },
   "cell_type": "code",
   "source": [
    "# 使用 regression_tc 函数生成数据集的特征与目标\n",
    "df, X, y = regression_tc(zgpa)\n",
    "\n",
    "# 将数据集拆分为训练集与验证集\n",
    "X_train, X_test, y_train, y_test = train_test_split(X, y, shuffle=False, train_size=0.8)\n",
    "\n",
    "# 创建一个 knn 回归实例，n_neighbors 取95\n",
    "knn_reg = KNeighborsRegressor(n_neighbors=95)\n",
    "\n",
    "# 使用 knn 拟合训练集\n",
    "knn_reg.fit(X_train, y_train)\n",
    "\n",
    "# 使用 KNN 回归模型预测每日股票的涨跌，保存为 'Predict_Signal'\n",
    "df['Predict_Signal'] = knn_reg.predict(X)\n",
    "#在数据集中添加一个字段，用当日收盘价除以前一日收盘价，并取其自然对数\n",
    "df['Return'] = np.log(df['Close']/df['Close'].shift(1))\n",
    "#查看一下\n",
    "df.head()"
   ],
   "id": "6ed0c987a684bb36",
   "outputs": [
    {
     "name": "stderr",
     "output_type": "stream",
     "text": [
      "/var/folders/_z/wf028lv51rl4_zw8pxj4k3740000gn/T/ipykernel_87827/1135337512.py:14: SettingWithCopyWarning: \n",
      "A value is trying to be set on a copy of a slice from a DataFrame.\n",
      "Try using .loc[row_indexer,col_indexer] = value instead\n",
      "\n",
      "See the caveats in the documentation: https://pandas.pydata.org/pandas-docs/stable/user_guide/indexing.html#returning-a-view-versus-a-copy\n",
      "  df['Predict_Signal'] = knn_reg.predict(X)\n",
      "/var/folders/_z/wf028lv51rl4_zw8pxj4k3740000gn/T/ipykernel_87827/1135337512.py:16: SettingWithCopyWarning: \n",
      "A value is trying to be set on a copy of a slice from a DataFrame.\n",
      "Try using .loc[row_indexer,col_indexer] = value instead\n",
      "\n",
      "See the caveats in the documentation: https://pandas.pydata.org/pandas-docs/stable/user_guide/indexing.html#returning-a-view-versus-a-copy\n",
      "  df['Return'] = np.log(df['Close']/df['Close'].shift(1))\n"
     ]
    },
    {
     "data": {
      "text/plain": [
       "                 Open       High        Low      Close  Adj Close    Volume  \\\n",
       "Date                                                                          \n",
       "2021-08-19  32.880001  32.880001  32.290001  32.320000  24.656717  44646608   \n",
       "2021-08-20  32.400002  32.490002  32.000000  32.259998  24.610943  24869457   \n",
       "2021-08-23  32.520000  32.900002  32.520000  32.880001  25.083935  16402007   \n",
       "2021-08-24  33.009998  33.080002  32.660000  32.799999  25.022905  20358402   \n",
       "2021-08-25  32.950001  33.000000  32.799999  33.000000  25.175484  10040196   \n",
       "\n",
       "            Open-Close  High-Low    target  Predict_Signal    Return  \n",
       "Date                                                                  \n",
       "2021-08-19    0.560001  0.590000 -0.060001       -0.003579       NaN  \n",
       "2021-08-20    0.140003  0.490002  0.620003       -0.016736 -0.001858  \n",
       "2021-08-23   -0.360001  0.380001 -0.080002        0.031263  0.019037  \n",
       "2021-08-24    0.209999  0.420002  0.200001       -0.009263 -0.002436  \n",
       "2021-08-25   -0.049999  0.200001 -0.009998        0.019368  0.006079  "
      ],
      "text/html": [
       "<div>\n",
       "<style scoped>\n",
       "    .dataframe tbody tr th:only-of-type {\n",
       "        vertical-align: middle;\n",
       "    }\n",
       "\n",
       "    .dataframe tbody tr th {\n",
       "        vertical-align: top;\n",
       "    }\n",
       "\n",
       "    .dataframe thead th {\n",
       "        text-align: right;\n",
       "    }\n",
       "</style>\n",
       "<table border=\"1\" class=\"dataframe\">\n",
       "  <thead>\n",
       "    <tr style=\"text-align: right;\">\n",
       "      <th></th>\n",
       "      <th>Open</th>\n",
       "      <th>High</th>\n",
       "      <th>Low</th>\n",
       "      <th>Close</th>\n",
       "      <th>Adj Close</th>\n",
       "      <th>Volume</th>\n",
       "      <th>Open-Close</th>\n",
       "      <th>High-Low</th>\n",
       "      <th>target</th>\n",
       "      <th>Predict_Signal</th>\n",
       "      <th>Return</th>\n",
       "    </tr>\n",
       "    <tr>\n",
       "      <th>Date</th>\n",
       "      <th></th>\n",
       "      <th></th>\n",
       "      <th></th>\n",
       "      <th></th>\n",
       "      <th></th>\n",
       "      <th></th>\n",
       "      <th></th>\n",
       "      <th></th>\n",
       "      <th></th>\n",
       "      <th></th>\n",
       "      <th></th>\n",
       "    </tr>\n",
       "  </thead>\n",
       "  <tbody>\n",
       "    <tr>\n",
       "      <th>2021-08-19</th>\n",
       "      <td>32.880001</td>\n",
       "      <td>32.880001</td>\n",
       "      <td>32.290001</td>\n",
       "      <td>32.320000</td>\n",
       "      <td>24.656717</td>\n",
       "      <td>44646608</td>\n",
       "      <td>0.560001</td>\n",
       "      <td>0.590000</td>\n",
       "      <td>-0.060001</td>\n",
       "      <td>-0.003579</td>\n",
       "      <td>NaN</td>\n",
       "    </tr>\n",
       "    <tr>\n",
       "      <th>2021-08-20</th>\n",
       "      <td>32.400002</td>\n",
       "      <td>32.490002</td>\n",
       "      <td>32.000000</td>\n",
       "      <td>32.259998</td>\n",
       "      <td>24.610943</td>\n",
       "      <td>24869457</td>\n",
       "      <td>0.140003</td>\n",
       "      <td>0.490002</td>\n",
       "      <td>0.620003</td>\n",
       "      <td>-0.016736</td>\n",
       "      <td>-0.001858</td>\n",
       "    </tr>\n",
       "    <tr>\n",
       "      <th>2021-08-23</th>\n",
       "      <td>32.520000</td>\n",
       "      <td>32.900002</td>\n",
       "      <td>32.520000</td>\n",
       "      <td>32.880001</td>\n",
       "      <td>25.083935</td>\n",
       "      <td>16402007</td>\n",
       "      <td>-0.360001</td>\n",
       "      <td>0.380001</td>\n",
       "      <td>-0.080002</td>\n",
       "      <td>0.031263</td>\n",
       "      <td>0.019037</td>\n",
       "    </tr>\n",
       "    <tr>\n",
       "      <th>2021-08-24</th>\n",
       "      <td>33.009998</td>\n",
       "      <td>33.080002</td>\n",
       "      <td>32.660000</td>\n",
       "      <td>32.799999</td>\n",
       "      <td>25.022905</td>\n",
       "      <td>20358402</td>\n",
       "      <td>0.209999</td>\n",
       "      <td>0.420002</td>\n",
       "      <td>0.200001</td>\n",
       "      <td>-0.009263</td>\n",
       "      <td>-0.002436</td>\n",
       "    </tr>\n",
       "    <tr>\n",
       "      <th>2021-08-25</th>\n",
       "      <td>32.950001</td>\n",
       "      <td>33.000000</td>\n",
       "      <td>32.799999</td>\n",
       "      <td>33.000000</td>\n",
       "      <td>25.175484</td>\n",
       "      <td>10040196</td>\n",
       "      <td>-0.049999</td>\n",
       "      <td>0.200001</td>\n",
       "      <td>-0.009998</td>\n",
       "      <td>0.019368</td>\n",
       "      <td>0.006079</td>\n",
       "    </tr>\n",
       "  </tbody>\n",
       "</table>\n",
       "</div>"
      ]
     },
     "execution_count": 149,
     "metadata": {},
     "output_type": "execute_result"
    }
   ],
   "execution_count": 149
  },
  {
   "metadata": {
    "ExecuteTime": {
     "end_time": "2024-08-20T00:56:14.372910Z",
     "start_time": "2024-08-20T00:56:14.370940Z"
    }
   },
   "cell_type": "code",
   "source": [
    "#定义一个计算累计回报的函数\n",
    "def cum_return(df, split_value):\n",
    "    #该股票基准收益为‘Return’的总和*1000\n",
    "    cum_return = df[split_value:]['Return'].cumsum()*1000\n",
    "    #将计算结果进行返回\n",
    "    return cum_return"
   ],
   "id": "9deaf1bbe401099b",
   "outputs": [],
   "execution_count": 150
  },
  {
   "metadata": {
    "ExecuteTime": {
     "end_time": "2024-08-20T00:56:14.386116Z",
     "start_time": "2024-08-20T00:56:14.384248Z"
    }
   },
   "cell_type": "code",
   "source": [
    "#再定义一个计算使用策略交易的收益\n",
    "def strategy_return(df, split_value):\n",
    "    #使用策略交易的收益为模型‘zgpa_Return’乘以模型预测的涨跌幅\n",
    "    df['Strategy_Return'] = df['Return']*df['Predict_Signal'].shift(1)\n",
    "    #将每日策略交易的收益加和并乘以1000\n",
    "    cum_strategy_return = df[split_value:]['Strategy_Return'].cumsum()*1000\n",
    "    #将计算结果进行返回\n",
    "    return cum_strategy_return"
   ],
   "id": "1ef3006ff0da8a41",
   "outputs": [],
   "execution_count": 151
  },
  {
   "metadata": {
    "ExecuteTime": {
     "end_time": "2024-08-20T00:56:14.405119Z",
     "start_time": "2024-08-20T00:56:14.403085Z"
    }
   },
   "cell_type": "code",
   "source": [
    "#定义一个绘图函数，用来对比基准收益和算法交易的收益\n",
    "def plot_chart(cum_return, cum_strategy_return, symbol):\n",
    "    #首先是定义画布的尺寸\n",
    "    plt.figure(figsize=(9,6))\n",
    "    #使用折线图绘制基准收益\n",
    "    plt.plot(cum_return, '--',label='%s Returns'%symbol)\n",
    "    #使用折线图绘制算法交易收益\n",
    "    plt.plot(cum_strategy_return, label = 'Strategy Returns')\n",
    "    #添加图注\n",
    "    plt.legend()\n",
    "    #显示图像\n",
    "    plt.show()\n",
    "   "
   ],
   "id": "251b83add76e7f0b",
   "outputs": [],
   "execution_count": 152
  },
  {
   "metadata": {
    "ExecuteTime": {
     "end_time": "2024-08-20T00:56:14.529104Z",
     "start_time": "2024-08-20T00:56:14.419452Z"
    }
   },
   "cell_type": "code",
   "source": [
    "#首先来计算基准收益（预测集）\n",
    "cum_return = cum_return(df, split_value=len(X_train))\n",
    "#然后是计算使用算法交易带来的收益（同样只计算预测集）\n",
    "cum_strategy_return = strategy_return(df, \n",
    "                                      split_value=len(X_train))\n",
    "#用图像来进行对比\n",
    "plot_chart(cum_return, cum_strategy_return, 'zgpa')\n"
   ],
   "id": "2f4ed64df67e80bd",
   "outputs": [
    {
     "name": "stderr",
     "output_type": "stream",
     "text": [
      "/var/folders/_z/wf028lv51rl4_zw8pxj4k3740000gn/T/ipykernel_87827/2277606755.py:4: SettingWithCopyWarning: \n",
      "A value is trying to be set on a copy of a slice from a DataFrame.\n",
      "Try using .loc[row_indexer,col_indexer] = value instead\n",
      "\n",
      "See the caveats in the documentation: https://pandas.pydata.org/pandas-docs/stable/user_guide/indexing.html#returning-a-view-versus-a-copy\n",
      "  df['Strategy_Return'] = df['Return']*df['Predict_Signal'].shift(1)\n"
     ]
    },
    {
     "data": {
      "text/plain": [
       "<Figure size 900x600 with 1 Axes>"
      ],
      "image/png": "[encoded data removed]"
     },
     "metadata": {},
     "output_type": "display_data"
    }
   ],
   "execution_count": 153
  },
  {
   "metadata": {
    "ExecuteTime": {
     "end_time": "2024-08-20T00:56:14.531648Z",
     "start_time": "2024-08-20T00:56:14.530069Z"
    }
   },
   "cell_type": "code",
   "source": "",
   "id": "cecc60186ab6bdee",
   "outputs": [],
   "execution_count": 153
  }
 ],
 "metadata": {
  "kernelspec": {
   "display_name": "Python 3",
   "language": "python",
   "name": "python3"
  },
  "language_info": {
   "codemirror_mode": {
    "name": "ipython",
    "version": 2
   },
   "file_extension": ".py",
   "mimetype": "text/x-python",
   "name": "python",
   "nbconvert_exporter": "python",
   "pygments_lexer": "ipython2",
   "version": "3.11.7"
  }
 },
 "nbformat": 4,
 "nbformat_minor": 5
}
