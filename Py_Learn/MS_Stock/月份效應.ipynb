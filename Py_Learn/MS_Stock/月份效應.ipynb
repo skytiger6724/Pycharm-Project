{
 "cells": [
  {
   "metadata": {},
   "cell_type": "markdown",
   "source": "",
   "id": "7880ddf3dea403f5"
  },
  {
   "metadata": {
    "ExecuteTime": {
     "end_time": "2024-08-26T23:32:54.573786Z",
     "start_time": "2024-08-26T23:32:54.571290Z"
    }
   },
   "cell_type": "code",
   "source": [
    "### 月份效应\n",
    "Month-of-the-Year Effect实证研究发现，在大多数的证券市场中存在某个或某些特定月份的平均收益率年复一年显著地异于其他各月平均收益率的现象，这种市场异象被称作“月份效应”。  \n",
    "在美国的股票市场表现为“1月效应”，即1月份的平均收益率显著高于其他月份的平均收益。该现象最早由美国学者瓦切尔(Wachte1)于1942年发现，但直到1976年罗兹弗(Rozef)和金乃尔(Kinney)系统地将这一异象揭示出来，“1月效应”才逐渐进入现代金融学者的视野，并逐渐形成一套科学严谨的“月份效应”研究体系，包括“1月效应”主要体现在小规模公司的股票上，并相应地提出了“税减假说”等理论解释。  \n",
    "\n",
    "张兵给出了基于资金面季节性流动规律的简要解释，总结起来有两方面：第一，资金面的季节变化，我国股市年末往往面临着各种形式的资金抽回，而来年初这些资金又会回流，这一资金运动规律决定了股市的“春涨”、“冬藏”；第二，重大利好政策往在2、3月份发布，从而引发“春涨”现象 。\n"
   ],
   "id": "83f48c45e47d064f",
   "outputs": [
    {
     "ename": "SyntaxError",
     "evalue": "invalid character '，' (U+FF0C) (4176073160.py, line 2)",
     "output_type": "error",
     "traceback": [
      "\u001B[0;36m  Cell \u001B[0;32mIn[4], line 2\u001B[0;36m\u001B[0m\n\u001B[0;31m    Month-of-the-Year Effect实证研究发现，在大多数的证券市场中存在某个或某些特定月份的平均收益率年复一年显著地异于其他各月平均收益率的现象，这种市场异象被称作“月份效应”。\u001B[0m\n\u001B[0m                                  ^\u001B[0m\n\u001B[0;31mSyntaxError\u001B[0m\u001B[0;31m:\u001B[0m invalid character '，' (U+FF0C)\n"
     ]
    }
   ],
   "execution_count": 4
  },
  {
   "metadata": {
    "ExecuteTime": {
     "end_time": "2024-08-26T23:32:54.750659Z",
     "start_time": "2024-08-26T23:32:54.591870Z"
    }
   },
   "cell_type": "code",
   "source": [
    "#先引入后面可能用到的包（package）\n",
    "import pandas as pd  \n",
    "import numpy as np\n",
    "import yfinance as yf\n",
    "from scipy import stats\n",
    "from datetime import datetime\n",
    "import matplotlib.pyplot as plt\n",
    "%matplotlib inline   \n",
    "\n",
    "#正常显示画图时出现的中文和负号\n",
    "from pylab import mpl\n",
    "mpl.rcParams['font.sans-serif'] = ['Arial Unicode Ms']\n",
    "mpl.rcParams['axes.unicode_minus'] = False"
   ],
   "id": "202717809768ced3",
   "outputs": [],
   "execution_count": 5
  },
  {
   "metadata": {
    "ExecuteTime": {
     "end_time": "2024-08-26T23:32:54.754657Z",
     "start_time": "2024-08-26T23:32:54.751459Z"
    }
   },
   "cell_type": "code",
   "source": [
    "# Get data function\n",
    "def get_data(ticker, start_date, end_date):\n",
    "    df = yf.download(ticker, start=start_date, end=end_date)\n",
    "    print(df.head())  # Print the first few rows to check the data\n",
    "    return df\n",
    "\n",
    "# Calculate daily log returns\n",
    "def log_ret(df):\n",
    "    if 'Adj Close' in df.columns:\n",
    "        logret = np.log(df['Adj Close'] / df['Adj Close'].shift(1))[1:]\n",
    "    elif 'Close' in df.columns:\n",
    "        logret = np.log(df['Close'] / df['Close'].shift(1))[1:]\n",
    "    else:\n",
    "        raise ValueError(\"DataFrame does not contain 'Adj Close' or 'Close' column.\")\n",
    "    return logret\n",
    "\n",
    "# Convert daily returns to monthly returns\n",
    "def month_rate(logret):\n",
    "    date = []\n",
    "    d = list(logret.index)\n",
    "    for i in range(len(logret)):\n",
    "        t = ''.join([d[i].strftime(\"%Y\"), d[i].strftime(\"%m\"), \"01\"])\n",
    "        date.append(datetime.strptime(t, \"%Y%m%d\"))\n",
    "    y = pd.DataFrame(logret.values, index=date, columns=['月收益率'])\n",
    "    ret_M = y.groupby(y.index).sum()\n",
    "    return ret_M\n",
    "\n",
    "\n",
    "# Convert daily returns to annual returns\n",
    "def annual_rate(logret):\n",
    "    year = []\n",
    "    d = list(logret.index)\n",
    "    for i in range(len(logret)):\n",
    "        year.append(d[i].strftime(\"%Y\"))\n",
    "    y = pd.DataFrame(logret.values, index=year, columns=['年收益率'])\n",
    "    ret_Y = np.exp(y.groupby(y.index).sum()) - 1\n",
    "    return ret_Y\n"
   ],
   "id": "85a287ffb2952372",
   "outputs": [],
   "execution_count": 6
  },
  {
   "metadata": {
    "ExecuteTime": {
     "end_time": "2024-08-26T23:32:55.243276Z",
     "start_time": "2024-08-26T23:32:54.755161Z"
    }
   },
   "cell_type": "code",
   "source": [
    "# Fetch data\n",
    "df = get_data('^TWII', '1993-01-01', '2024-08-26')\n",
    "\n",
    "# Calculate log returns\n",
    "logret = log_ret(df)\n",
    "\n",
    "# Calculate monthly returns\n",
    "ret_M = month_rate(logret)\n",
    "\n",
    "# Calculate annual returns\n",
    "ret_Y = annual_rate(logret)"
   ],
   "id": "e656c69d6875ff6a",
   "outputs": [
    {
     "name": "stderr",
     "output_type": "stream",
     "text": [
      "[*********************100%%**********************]  1 of 1 completed"
     ]
    },
    {
     "name": "stdout",
     "output_type": "stream",
     "text": [
      "                   Open         High          Low        Close    Adj Close  \\\n",
      "Date                                                                          \n",
      "1997-07-02  9094.269531  9124.299805  8988.129883  8996.719727  8996.678711   \n",
      "1997-07-03  9061.599609  9061.599609  8997.509766  9027.629883  9027.588867   \n",
      "1997-07-04  9144.959961  9218.209961  9119.250000  9192.570312  9192.528320   \n",
      "1997-07-07  9365.190430  9370.410156  9304.820312  9322.839844  9322.797852   \n",
      "1997-07-08  9345.549805  9371.500000  9282.099609  9305.269531  9305.227539   \n",
      "\n",
      "            Volume  \n",
      "Date                \n",
      "1997-07-02       0  \n",
      "1997-07-03       0  \n",
      "1997-07-04       0  \n",
      "1997-07-07       0  \n",
      "1997-07-08       0  \n"
     ]
    },
    {
     "name": "stderr",
     "output_type": "stream",
     "text": [
      "\n"
     ]
    }
   ],
   "execution_count": 7
  },
  {
   "metadata": {},
   "cell_type": "markdown",
   "source": [
    "### 查看K线图\n",
    "使用pyecharts画狂拽酷炫的K线图（cmd上先安装：pip install pyecharts）"
   ],
   "id": "60b8f9dc17b2a89"
  },
  {
   "metadata": {
    "ExecuteTime": {
     "end_time": "2024-08-26T23:46:32.415048Z",
     "start_time": "2024-08-26T23:46:32.410958Z"
    }
   },
   "cell_type": "code",
   "source": [
    "from pyecharts.charts import Line\n",
    "from pyecharts import options as opts\n",
    "\n",
    "# Create sample data\n",
    "x_data = ['2024-01-01', '2024-01-02', '2024-01-03']\n",
    "y_data = [100, 200, 300]\n",
    "\n",
    "# Create a simple line chart\n",
    "line_chart = (\n",
    "    Line()\n",
    "    .add_xaxis(x_data)\n",
    "    .add_yaxis(\"Sample Line\", y_data)\n",
    "    .set_global_opts(title_opts=opts.TitleOpts(title=\"Simple Line Chart\"))\n",
    ")\n",
    "\n",
    "# Render the chart\n",
    "line_chart.render(\"simple_line_chart.html\")"
   ],
   "id": "5258e6d181e8f794",
   "outputs": [
    {
     "data": {
      "text/plain": [
       "'/Users/johnson/Library/CloudStorage/OneDrive-個人/Documents/Learning By Working/Pratice_SCRIPT/Py_Learn/MS_Stock/simple_line_chart.html'"
      ]
     },
     "execution_count": 17,
     "metadata": {},
     "output_type": "execute_result"
    }
   ],
   "execution_count": 17
  },
  {
   "metadata": {
    "ExecuteTime": {
     "end_time": "2024-08-26T23:48:08.322122Z",
     "start_time": "2024-08-26T23:48:08.306570Z"
    }
   },
   "cell_type": "code",
   "source": [
    "x_data = [date.strftime(\"%Y-%m-%d\") for date in df['Date']]  # X-axis: Dates\n",
    "y_data = df[['Open', 'Close', 'Low', 'High']].values.tolist()  # Y-axis: OHLC data as a list of lists\n",
    "\n",
    "# Print for debugging\n",
    "print(f\"x_data: {x_data[:5]}\")  # Check the first few dates\n",
    "print(f\"y_data: {y_data[:5]}\")  # Check the first few OHLC data points"
   ],
   "id": "86384a5be466db2",
   "outputs": [
    {
     "name": "stdout",
     "output_type": "stream",
     "text": [
      "x_data: ['1997-07-02', '1997-07-03', '1997-07-04', '1997-07-07', '1997-07-08']\n",
      "y_data: [[9094.26953125, 8996.7197265625, 8988.1298828125, 9124.2998046875], [9061.599609375, 9027.6298828125, 8997.509765625, 9061.599609375], [9144.9599609375, 9192.5703125, 9119.25, 9218.2099609375], [9365.1904296875, 9322.83984375, 9304.8203125, 9370.41015625], [9345.5498046875, 9305.26953125, 9282.099609375, 9371.5]]\n"
     ]
    }
   ],
   "execution_count": 18
  },
  {
   "metadata": {
    "ExecuteTime": {
     "end_time": "2024-08-26T23:48:25.924958Z",
     "start_time": "2024-08-26T23:48:25.792419Z"
    }
   },
   "cell_type": "code",
   "source": [
    "from pyecharts.charts import Kline\n",
    "from pyecharts import options as opts\n",
    "\n",
    "# Create the Kline chart\n",
    "kline = (\n",
    "    Kline()\n",
    "    .add_xaxis(x_data)\n",
    "    .add_yaxis(\n",
    "        \"Kline\",\n",
    "        y_data,\n",
    "        markline_opts=opts.MarkLineOpts(\n",
    "            data=[opts.MarkLineItem(type_=\"average\")]\n",
    "        ),\n",
    "        markpoint_opts=opts.MarkPointOpts(\n",
    "            data=[opts.MarkPointItem(type_=\"max\"), opts.MarkPointItem(type_=\"min\")],\n",
    "            symbol_size=80\n",
    "        )\n",
    "    )\n",
    "    .set_global_opts(\n",
    "        title_opts=opts.TitleOpts(title=\"台指指数K线图\", pos_left=\"center\"),\n",
    "        datazoom_opts=opts.DataZoomOpts(is_show=True),\n",
    "        yaxis_opts=opts.AxisOpts(is_scale=True),\n",
    "        xaxis_opts=opts.AxisOpts(type_=\"category\"),\n",
    "    )\n",
    ")\n",
    "\n",
    "# Render the chart\n",
    "kline.render(\"台指指数图.html\")"
   ],
   "id": "ced6ba620adf8679",
   "outputs": [
    {
     "data": {
      "text/plain": [
       "'/Users/johnson/Library/CloudStorage/OneDrive-個人/Documents/Learning By Working/Pratice_SCRIPT/Py_Learn/MS_Stock/台指指数图.html'"
      ]
     },
     "execution_count": 19,
     "metadata": {},
     "output_type": "execute_result"
    }
   ],
   "execution_count": 19
  },
  {
   "metadata": {},
   "cell_type": "markdown",
   "source": "### 年收益率情况",
   "id": "959fadfe807fa8b9"
  },
  {
   "metadata": {
    "ExecuteTime": {
     "end_time": "2024-08-26T23:53:22.178610Z",
     "start_time": "2024-08-26T23:53:22.171665Z"
    }
   },
   "cell_type": "code",
   "source": [
    "from pyecharts.charts import Bar\n",
    "from pyecharts import options as opts\n",
    "\n",
    "# Prepare the data\n",
    "attr = list(ret_Y.index)  # x-axis: years\n",
    "v = list((ret_Y['年收益率'] * 100).round(2))  # y-axis: percentage returns\n",
    "\n",
    "# Create the bar chart\n",
    "bar = (\n",
    "    Bar()\n",
    "    .add_xaxis(attr)\n",
    "    .add_yaxis(\"年收益率(%)\", v, label_opts=opts.LabelOpts(is_show=True))\n",
    "    .set_global_opts(\n",
    "        title_opts=opts.TitleOpts(title=\"台股指数历年收益率(%)\", pos_left=\"center\"),\n",
    "        datazoom_opts=opts.DataZoomOpts(is_show=True),\n",
    "    )\n",
    ")\n",
    "\n",
    "# Render the chart\n",
    "bar.render(\"台股指数历年收益率图.html\")"
   ],
   "id": "8ce6c555d97cac1f",
   "outputs": [
    {
     "data": {
      "text/plain": [
       "'/Users/johnson/Library/CloudStorage/OneDrive-個人/Documents/Learning By Working/Pratice_SCRIPT/Py_Learn/MS_Stock/台股指数历年收益率图.html'"
      ]
     },
     "execution_count": 23,
     "metadata": {},
     "output_type": "execute_result"
    }
   ],
   "execution_count": 23
  },
  {
   "metadata": {
    "ExecuteTime": {
     "end_time": "2024-08-26T23:54:01.441523Z",
     "start_time": "2024-08-26T23:54:01.421902Z"
    }
   },
   "cell_type": "code",
   "source": "ret_Y.describe().T",
   "id": "5c8f04842173e9d1",
   "outputs": [
    {
     "data": {
      "text/plain": [
       "      count      mean       std       min       25%       50%       75%  \\\n",
       "年收益率   28.0  0.064316  0.255069 -0.460255 -0.093512  0.092257  0.229336   \n",
       "\n",
       "           max  \n",
       "年收益率  0.783428  "
      ],
      "text/html": [
       "<div>\n",
       "<style scoped>\n",
       "    .dataframe tbody tr th:only-of-type {\n",
       "        vertical-align: middle;\n",
       "    }\n",
       "\n",
       "    .dataframe tbody tr th {\n",
       "        vertical-align: top;\n",
       "    }\n",
       "\n",
       "    .dataframe thead th {\n",
       "        text-align: right;\n",
       "    }\n",
       "</style>\n",
       "<table border=\"1\" class=\"dataframe\">\n",
       "  <thead>\n",
       "    <tr style=\"text-align: right;\">\n",
       "      <th></th>\n",
       "      <th>count</th>\n",
       "      <th>mean</th>\n",
       "      <th>std</th>\n",
       "      <th>min</th>\n",
       "      <th>25%</th>\n",
       "      <th>50%</th>\n",
       "      <th>75%</th>\n",
       "      <th>max</th>\n",
       "    </tr>\n",
       "  </thead>\n",
       "  <tbody>\n",
       "    <tr>\n",
       "      <th>年收益率</th>\n",
       "      <td>28.0</td>\n",
       "      <td>0.064316</td>\n",
       "      <td>0.255069</td>\n",
       "      <td>-0.460255</td>\n",
       "      <td>-0.093512</td>\n",
       "      <td>0.092257</td>\n",
       "      <td>0.229336</td>\n",
       "      <td>0.783428</td>\n",
       "    </tr>\n",
       "  </tbody>\n",
       "</table>\n",
       "</div>"
      ]
     },
     "execution_count": 24,
     "metadata": {},
     "output_type": "execute_result"
    }
   ],
   "execution_count": 24
  },
  {
   "metadata": {
    "ExecuteTime": {
     "end_time": "2024-08-26T23:54:29.434256Z",
     "start_time": "2024-08-26T23:54:29.427227Z"
    }
   },
   "cell_type": "code",
   "source": "ret_Y.sort_values('年收益率')[:25].T",
   "id": "a2373fd1a5e8d5b7",
   "outputs": [
    {
     "data": {
      "text/plain": [
       "          2008     2000      2022      1998      2011      2002      2015  \\\n",
       "年收益率 -0.460255 -0.43851 -0.224007 -0.216048 -0.211805 -0.197936 -0.104134   \n",
       "\n",
       "          1997      2018     2004  ...      2016     2013      2017      2001  \\\n",
       "年收益率 -0.089972 -0.086015  0.04227  ...  0.109795  0.11845  0.150145  0.170175   \n",
       "\n",
       "          2006      2020      2019      2024     2021      2023  \n",
       "年收益率  0.194764  0.228004  0.233333  0.235753  0.23664  0.268298  \n",
       "\n",
       "[1 rows x 25 columns]"
      ],
      "text/html": [
       "<div>\n",
       "<style scoped>\n",
       "    .dataframe tbody tr th:only-of-type {\n",
       "        vertical-align: middle;\n",
       "    }\n",
       "\n",
       "    .dataframe tbody tr th {\n",
       "        vertical-align: top;\n",
       "    }\n",
       "\n",
       "    .dataframe thead th {\n",
       "        text-align: right;\n",
       "    }\n",
       "</style>\n",
       "<table border=\"1\" class=\"dataframe\">\n",
       "  <thead>\n",
       "    <tr style=\"text-align: right;\">\n",
       "      <th></th>\n",
       "      <th>2008</th>\n",
       "      <th>2000</th>\n",
       "      <th>2022</th>\n",
       "      <th>1998</th>\n",
       "      <th>2011</th>\n",
       "      <th>2002</th>\n",
       "      <th>2015</th>\n",
       "      <th>1997</th>\n",
       "      <th>2018</th>\n",
       "      <th>2004</th>\n",
       "      <th>...</th>\n",
       "      <th>2016</th>\n",
       "      <th>2013</th>\n",
       "      <th>2017</th>\n",
       "      <th>2001</th>\n",
       "      <th>2006</th>\n",
       "      <th>2020</th>\n",
       "      <th>2019</th>\n",
       "      <th>2024</th>\n",
       "      <th>2021</th>\n",
       "      <th>2023</th>\n",
       "    </tr>\n",
       "  </thead>\n",
       "  <tbody>\n",
       "    <tr>\n",
       "      <th>年收益率</th>\n",
       "      <td>-0.460255</td>\n",
       "      <td>-0.43851</td>\n",
       "      <td>-0.224007</td>\n",
       "      <td>-0.216048</td>\n",
       "      <td>-0.211805</td>\n",
       "      <td>-0.197936</td>\n",
       "      <td>-0.104134</td>\n",
       "      <td>-0.089972</td>\n",
       "      <td>-0.086015</td>\n",
       "      <td>0.04227</td>\n",
       "      <td>...</td>\n",
       "      <td>0.109795</td>\n",
       "      <td>0.11845</td>\n",
       "      <td>0.150145</td>\n",
       "      <td>0.170175</td>\n",
       "      <td>0.194764</td>\n",
       "      <td>0.228004</td>\n",
       "      <td>0.233333</td>\n",
       "      <td>0.235753</td>\n",
       "      <td>0.23664</td>\n",
       "      <td>0.268298</td>\n",
       "    </tr>\n",
       "  </tbody>\n",
       "</table>\n",
       "<p>1 rows × 25 columns</p>\n",
       "</div>"
      ]
     },
     "execution_count": 26,
     "metadata": {},
     "output_type": "execute_result"
    }
   ],
   "execution_count": 26
  },
  {
   "metadata": {
    "ExecuteTime": {
     "end_time": "2024-08-26T23:54:49.442374Z",
     "start_time": "2024-08-26T23:54:49.436226Z"
    }
   },
   "cell_type": "code",
   "source": "ret_Y.sort_values('年收益率',ascending=False)[:25].T",
   "id": "5b530df6e3411e95",
   "outputs": [
    {
     "data": {
      "text/plain": [
       "          2009      2003     1999      2023     2021      2024      2019  \\\n",
       "年收益率  0.783428  0.323022  0.31634  0.268298  0.23664  0.235753  0.233333   \n",
       "\n",
       "          2020      2006      2001  ...      2007      2014      2005  \\\n",
       "年收益率  0.228004  0.194764  0.170175  ...  0.087242  0.080793  0.066559   \n",
       "\n",
       "         2004      2018      1997      2015      2002      2011      1998  \n",
       "年收益率  0.04227 -0.086015 -0.089972 -0.104134 -0.197936 -0.211805 -0.216048  \n",
       "\n",
       "[1 rows x 25 columns]"
      ],
      "text/html": [
       "<div>\n",
       "<style scoped>\n",
       "    .dataframe tbody tr th:only-of-type {\n",
       "        vertical-align: middle;\n",
       "    }\n",
       "\n",
       "    .dataframe tbody tr th {\n",
       "        vertical-align: top;\n",
       "    }\n",
       "\n",
       "    .dataframe thead th {\n",
       "        text-align: right;\n",
       "    }\n",
       "</style>\n",
       "<table border=\"1\" class=\"dataframe\">\n",
       "  <thead>\n",
       "    <tr style=\"text-align: right;\">\n",
       "      <th></th>\n",
       "      <th>2009</th>\n",
       "      <th>2003</th>\n",
       "      <th>1999</th>\n",
       "      <th>2023</th>\n",
       "      <th>2021</th>\n",
       "      <th>2024</th>\n",
       "      <th>2019</th>\n",
       "      <th>2020</th>\n",
       "      <th>2006</th>\n",
       "      <th>2001</th>\n",
       "      <th>...</th>\n",
       "      <th>2007</th>\n",
       "      <th>2014</th>\n",
       "      <th>2005</th>\n",
       "      <th>2004</th>\n",
       "      <th>2018</th>\n",
       "      <th>1997</th>\n",
       "      <th>2015</th>\n",
       "      <th>2002</th>\n",
       "      <th>2011</th>\n",
       "      <th>1998</th>\n",
       "    </tr>\n",
       "  </thead>\n",
       "  <tbody>\n",
       "    <tr>\n",
       "      <th>年收益率</th>\n",
       "      <td>0.783428</td>\n",
       "      <td>0.323022</td>\n",
       "      <td>0.31634</td>\n",
       "      <td>0.268298</td>\n",
       "      <td>0.23664</td>\n",
       "      <td>0.235753</td>\n",
       "      <td>0.233333</td>\n",
       "      <td>0.228004</td>\n",
       "      <td>0.194764</td>\n",
       "      <td>0.170175</td>\n",
       "      <td>...</td>\n",
       "      <td>0.087242</td>\n",
       "      <td>0.080793</td>\n",
       "      <td>0.066559</td>\n",
       "      <td>0.04227</td>\n",
       "      <td>-0.086015</td>\n",
       "      <td>-0.089972</td>\n",
       "      <td>-0.104134</td>\n",
       "      <td>-0.197936</td>\n",
       "      <td>-0.211805</td>\n",
       "      <td>-0.216048</td>\n",
       "    </tr>\n",
       "  </tbody>\n",
       "</table>\n",
       "<p>1 rows × 25 columns</p>\n",
       "</div>"
      ]
     },
     "execution_count": 27,
     "metadata": {},
     "output_type": "execute_result"
    }
   ],
   "execution_count": 27
  },
  {
   "metadata": {
    "ExecuteTime": {
     "end_time": "2024-08-26T23:55:15.688632Z",
     "start_time": "2024-08-26T23:55:15.685119Z"
    }
   },
   "cell_type": "code",
   "source": [
    "ratio=int(ret_Y[ret_Y['年收益率']>0].count().values)/len(ret_Y)\n",
    "print(f'上涨年份占比{ratio*100}%')"
   ],
   "id": "9a4c765ac6bbe4b",
   "outputs": [
    {
     "name": "stdout",
     "output_type": "stream",
     "text": [
      "上涨年份占比67.85714285714286%\n"
     ]
    },
    {
     "name": "stderr",
     "output_type": "stream",
     "text": [
      "/var/folders/_z/wf028lv51rl4_zw8pxj4k3740000gn/T/ipykernel_48197/1755400445.py:1: DeprecationWarning: Conversion of an array with ndim > 0 to a scalar is deprecated, and will error in future. Ensure you extract a single element from your array before performing this operation. (Deprecated NumPy 1.25.)\n",
      "  ratio=int(ret_Y[ret_Y['年收益率']>0].count().values)/len(ret_Y)\n"
     ]
    }
   ],
   "execution_count": 28
  },
  {
   "metadata": {},
   "cell_type": "markdown",
   "source": [
    "### 月份效应检验\n",
    "所谓“月份效应”，主要是指股票市场中存在某个或某些特定月份的平均收益率年复一年显著地异于其他各月平均收益率的现象。有实证研究表明，美国股票市场表现为“1月效应”，即1月份的平均收益率为正，且显著高于其他月份的平均收益。该现象最早由Wachte1（1942）发现，但直到1976年Rozef和Kinney系统地将这一异象揭示出来，“1月效应”才引起金融界的注意。美国等发达国家对“月份效应”的讨论和研究已走向成熟，但是由于A股运行时间较短，并且由于文化差异（节假日安排）导致的交易时间不一致，其“月份效应”特征可能异于我国，因此仍有必要进一步挖掘和探讨。  \n",
    "检验思路：（1）将数据分成两组：m月份和其他月份；（2）检验两组数据的平均值是否相等"
   ],
   "id": "de2facdc42c07d34"
  },
  {
   "metadata": {
    "ExecuteTime": {
     "end_time": "2024-08-26T23:58:28.475103Z",
     "start_time": "2024-08-26T23:58:28.432138Z"
    }
   },
   "cell_type": "code",
   "source": [
    "import pandas as pd\n",
    "import numpy as np\n",
    "import yfinance as yf\n",
    "from datetime import datetime\n",
    "\n",
    "# Function to get data using yfinance\n",
    "def get_data(ticker, start_date, end_date=None):\n",
    "    df = yf.download(ticker, start=start_date, end=end_date)\n",
    "    df.index = pd.to_datetime(df.index)  # Ensure the index is datetime\n",
    "    return df\n",
    "\n",
    "# Log return calculation\n",
    "def log_ret(series):\n",
    "    return np.log(series / series.shift(1))[1:]\n",
    "\n",
    "# Convert daily returns to monthly returns\n",
    "def month_rate(logret):\n",
    "    return logret.resample('M').sum()\n",
    "\n",
    "# Convert daily returns to annual returns\n",
    "def annual_rate(logret):\n",
    "    return np.exp(logret.resample('Y').sum()) - 1\n",
    "\n",
    "# Fetch data\n",
    "df = get_data('^TWII', '1993-01-01', '2024-08-26')\n",
    "\n",
    "# Calculate log returns\n",
    "logret = log_ret(df['Adj Close'])\n",
    "\n",
    "# Calculate monthly returns\n",
    "ret_M = month_rate(logret)\n",
    "\n",
    "# Calculate annual returns\n",
    "ret_Y = annual_rate(logret)\n",
    "\n",
    "# Create a DataFrame to store monthly returns\n",
    "df_m = pd.DataFrame(index=ret_M.index.year.unique())  # Use years as the index\n",
    "\n",
    "# Monthly returns for each year\n",
    "for i in range(1, 13):\n",
    "    ret = ret_M[ret_M.index.month == i]\n",
    "    ret.index = ret.index.year  # Set the index to the year for alignment\n",
    "    df_m[str(i) + '月份'] = ret.reindex(df_m.index)  # Reindex to match df_m\n",
    "\n",
    "# Summary statistics of monthly returns\n",
    "summary = df_m.describe().round(3)\n",
    "print(summary)"
   ],
   "id": "ff91a0b087c57c3f",
   "outputs": [
    {
     "name": "stderr",
     "output_type": "stream",
     "text": [
      "[*********************100%%**********************]  1 of 1 completed"
     ]
    },
    {
     "name": "stdout",
     "output_type": "stream",
     "text": [
      "          1月份     2月份     3月份     4月份     5月份     6月份     7月份     8月份     9月份  \\\n",
      "count  27.000  27.000  27.000  27.000  27.000  27.000  28.000  28.000  27.000   \n",
      "mean    0.015   0.018   0.015   0.001   0.002  -0.003  -0.001  -0.010  -0.030   \n",
      "std     0.073   0.054   0.051   0.062   0.049   0.066   0.060   0.050   0.082   \n",
      "min    -0.123  -0.124  -0.151  -0.110  -0.082  -0.136  -0.133  -0.156  -0.215   \n",
      "25%    -0.027  -0.022  -0.003  -0.042  -0.032  -0.039  -0.037  -0.034  -0.070   \n",
      "50%     0.006   0.026   0.010  -0.001  -0.002  -0.004   0.004  -0.004  -0.006   \n",
      "75%     0.049   0.053   0.034   0.033   0.026   0.036   0.024   0.014   0.019   \n",
      "max     0.224   0.129   0.134   0.140   0.140   0.146   0.112   0.096   0.095   \n",
      "\n",
      "         10月份    11月份    12月份  \n",
      "count  27.000  27.000  27.000  \n",
      "mean   -0.010   0.015   0.024  \n",
      "std     0.071   0.064   0.063  \n",
      "min    -0.175  -0.123  -0.112  \n",
      "25%    -0.030  -0.014   0.002  \n",
      "50%     0.006   0.011   0.024  \n",
      "75%     0.041   0.060   0.049  \n",
      "max     0.088   0.139   0.223  \n"
     ]
    },
    {
     "name": "stderr",
     "output_type": "stream",
     "text": [
      "\n",
      "/var/folders/_z/wf028lv51rl4_zw8pxj4k3740000gn/T/ipykernel_48197/773646184.py:18: FutureWarning: 'M' is deprecated and will be removed in a future version, please use 'ME' instead.\n",
      "  return logret.resample('M').sum()\n",
      "/var/folders/_z/wf028lv51rl4_zw8pxj4k3740000gn/T/ipykernel_48197/773646184.py:22: FutureWarning: 'Y' is deprecated and will be removed in a future version, please use 'YE' instead.\n",
      "  return np.exp(logret.resample('Y').sum()) - 1\n"
     ]
    }
   ],
   "execution_count": 32
  },
  {
   "metadata": {
    "ExecuteTime": {
     "end_time": "2024-08-27T00:02:10.326450Z",
     "start_time": "2024-08-27T00:02:10.279920Z"
    }
   },
   "cell_type": "code",
   "source": [
    "import pandas as pd\n",
    "import numpy as np\n",
    "import yfinance as yf\n",
    "from datetime import datetime\n",
    "\n",
    "# Function to get data using yfinance\n",
    "def get_data(ticker, start_date, end_date=None):\n",
    "    df = yf.download(ticker, start=start_date, end=end_date)\n",
    "    df.index = pd.to_datetime(df.index)  # Ensure the index is datetime\n",
    "    return df\n",
    "\n",
    "# Log return calculation\n",
    "def log_ret(series):\n",
    "    return np.log(series / series.shift(1))[1:]\n",
    "\n",
    "# Convert daily returns to monthly returns\n",
    "def month_rate(logret):\n",
    "    return logret.resample('M').sum()\n",
    "\n",
    "# Convert daily returns to annual returns\n",
    "def annual_rate(logret):\n",
    "    return np.exp(logret.resample('Y').sum()) - 1\n",
    "\n",
    "# Fetch data\n",
    "df = get_data('^TWII', '1993-01-01', '2024-08-26')\n",
    "\n",
    "# Calculate log returns\n",
    "logret = log_ret(df['Adj Close'])\n",
    "\n",
    "# Calculate monthly returns\n",
    "ret_M = month_rate(logret)\n",
    "\n",
    "# Create a DataFrame to store monthly returns, indexed by year\n",
    "df_m = pd.DataFrame(index=ret_M.index.year.unique())  # Use years as the index\n",
    "\n",
    "# Monthly returns for each year\n",
    "for i in range(1, 13):\n",
    "    ret = ret_M[ret_M.index.month == i]  # Extract returns for each month\n",
    "    ret.index = ret.index.year           # Set the index to the year for alignment\n",
    "    # Reindex to match df_m index and handle missing values\n",
    "    ret_reindexed = ret.reindex(df_m.index)\n",
    "    df_m[str(i) + '月份'] = ret_reindexed.values\n",
    "\n",
    "# Summary statistics of monthly returns\n",
    "summary = df_m.describe().round(3)\n",
    "print(summary)"
   ],
   "id": "5504b5d905255480",
   "outputs": [
    {
     "name": "stderr",
     "output_type": "stream",
     "text": [
      "[*********************100%%**********************]  1 of 1 completed"
     ]
    },
    {
     "name": "stdout",
     "output_type": "stream",
     "text": [
      "          1月份     2月份     3月份     4月份     5月份     6月份     7月份     8月份     9月份  \\\n",
      "count  27.000  27.000  27.000  27.000  27.000  27.000  28.000  28.000  27.000   \n",
      "mean    0.015   0.018   0.015   0.001   0.002  -0.003  -0.001  -0.010  -0.030   \n",
      "std     0.073   0.054   0.051   0.062   0.049   0.066   0.060   0.050   0.082   \n",
      "min    -0.123  -0.124  -0.151  -0.110  -0.082  -0.136  -0.133  -0.156  -0.215   \n",
      "25%    -0.027  -0.022  -0.003  -0.042  -0.032  -0.039  -0.037  -0.034  -0.070   \n",
      "50%     0.006   0.026   0.010  -0.001  -0.002  -0.004   0.004  -0.004  -0.006   \n",
      "75%     0.049   0.053   0.034   0.033   0.026   0.036   0.024   0.014   0.019   \n",
      "max     0.224   0.129   0.134   0.140   0.140   0.146   0.112   0.096   0.095   \n",
      "\n",
      "         10月份    11月份    12月份  \n",
      "count  27.000  27.000  27.000  \n",
      "mean   -0.010   0.015   0.024  \n",
      "std     0.071   0.064   0.063  \n",
      "min    -0.175  -0.123  -0.112  \n",
      "25%    -0.030  -0.014   0.002  \n",
      "50%     0.006   0.011   0.024  \n",
      "75%     0.041   0.060   0.049  \n",
      "max     0.088   0.139   0.223  \n"
     ]
    },
    {
     "name": "stderr",
     "output_type": "stream",
     "text": [
      "\n",
      "/var/folders/_z/wf028lv51rl4_zw8pxj4k3740000gn/T/ipykernel_48197/1344602148.py:18: FutureWarning: 'M' is deprecated and will be removed in a future version, please use 'ME' instead.\n",
      "  return logret.resample('M').sum()\n"
     ]
    }
   ],
   "execution_count": 36
  },
  {
   "metadata": {
    "ExecuteTime": {
     "end_time": "2024-08-27T00:03:38.602861Z",
     "start_time": "2024-08-27T00:03:38.591720Z"
    }
   },
   "cell_type": "code",
   "source": [
    "# Excluding returns for a specific month and creating new DataFrame\n",
    "df_exm = pd.DataFrame(index=df_m.index)\n",
    "for i in range(1, 13):\n",
    "    ret_exm = ret_M[ret_M.index.month != i]\n",
    "    df_exm['ex' + str(i)] = ret_exm.reindex(df_exm.index).values\n",
    "\n",
    "print(df_exm.head(27))"
   ],
   "id": "4d72e02fdc381bfa",
   "outputs": [
    {
     "name": "stdout",
     "output_type": "stream",
     "text": [
      "      ex1  ex2  ex3  ex4  ex5  ex6  ex7  ex8  ex9  ex10  ex11  ex12\n",
      "Date                                                               \n",
      "1997  NaN  NaN  NaN  NaN  NaN  NaN  NaN  NaN  NaN   NaN   NaN   NaN\n",
      "1998  NaN  NaN  NaN  NaN  NaN  NaN  NaN  NaN  NaN   NaN   NaN   NaN\n",
      "1999  NaN  NaN  NaN  NaN  NaN  NaN  NaN  NaN  NaN   NaN   NaN   NaN\n",
      "2000  NaN  NaN  NaN  NaN  NaN  NaN  NaN  NaN  NaN   NaN   NaN   NaN\n",
      "2001  NaN  NaN  NaN  NaN  NaN  NaN  NaN  NaN  NaN   NaN   NaN   NaN\n",
      "2002  NaN  NaN  NaN  NaN  NaN  NaN  NaN  NaN  NaN   NaN   NaN   NaN\n",
      "2003  NaN  NaN  NaN  NaN  NaN  NaN  NaN  NaN  NaN   NaN   NaN   NaN\n",
      "2004  NaN  NaN  NaN  NaN  NaN  NaN  NaN  NaN  NaN   NaN   NaN   NaN\n",
      "2005  NaN  NaN  NaN  NaN  NaN  NaN  NaN  NaN  NaN   NaN   NaN   NaN\n",
      "2006  NaN  NaN  NaN  NaN  NaN  NaN  NaN  NaN  NaN   NaN   NaN   NaN\n",
      "2007  NaN  NaN  NaN  NaN  NaN  NaN  NaN  NaN  NaN   NaN   NaN   NaN\n",
      "2008  NaN  NaN  NaN  NaN  NaN  NaN  NaN  NaN  NaN   NaN   NaN   NaN\n",
      "2009  NaN  NaN  NaN  NaN  NaN  NaN  NaN  NaN  NaN   NaN   NaN   NaN\n",
      "2010  NaN  NaN  NaN  NaN  NaN  NaN  NaN  NaN  NaN   NaN   NaN   NaN\n",
      "2011  NaN  NaN  NaN  NaN  NaN  NaN  NaN  NaN  NaN   NaN   NaN   NaN\n",
      "2012  NaN  NaN  NaN  NaN  NaN  NaN  NaN  NaN  NaN   NaN   NaN   NaN\n",
      "2013  NaN  NaN  NaN  NaN  NaN  NaN  NaN  NaN  NaN   NaN   NaN   NaN\n",
      "2014  NaN  NaN  NaN  NaN  NaN  NaN  NaN  NaN  NaN   NaN   NaN   NaN\n",
      "2015  NaN  NaN  NaN  NaN  NaN  NaN  NaN  NaN  NaN   NaN   NaN   NaN\n",
      "2016  NaN  NaN  NaN  NaN  NaN  NaN  NaN  NaN  NaN   NaN   NaN   NaN\n",
      "2017  NaN  NaN  NaN  NaN  NaN  NaN  NaN  NaN  NaN   NaN   NaN   NaN\n",
      "2018  NaN  NaN  NaN  NaN  NaN  NaN  NaN  NaN  NaN   NaN   NaN   NaN\n",
      "2019  NaN  NaN  NaN  NaN  NaN  NaN  NaN  NaN  NaN   NaN   NaN   NaN\n",
      "2020  NaN  NaN  NaN  NaN  NaN  NaN  NaN  NaN  NaN   NaN   NaN   NaN\n",
      "2021  NaN  NaN  NaN  NaN  NaN  NaN  NaN  NaN  NaN   NaN   NaN   NaN\n",
      "2022  NaN  NaN  NaN  NaN  NaN  NaN  NaN  NaN  NaN   NaN   NaN   NaN\n",
      "2023  NaN  NaN  NaN  NaN  NaN  NaN  NaN  NaN  NaN   NaN   NaN   NaN\n"
     ]
    }
   ],
   "execution_count": 39
  },
  {
   "metadata": {},
   "cell_type": "code",
   "outputs": [],
   "execution_count": null,
   "source": "",
   "id": "4fd6c5ec3bf656a0"
  }
 ],
 "metadata": {
  "kernelspec": {
   "display_name": "Python 3",
   "language": "python",
   "name": "python3"
  },
  "language_info": {
   "codemirror_mode": {
    "name": "ipython",
    "version": 2
   },
   "file_extension": ".py",
   "mimetype": "text/x-python",
   "name": "python",
   "nbconvert_exporter": "python",
   "pygments_lexer": "ipython2",
   "version": "2.7.6"
  }
 },
 "nbformat": 4,
 "nbformat_minor": 5
}
